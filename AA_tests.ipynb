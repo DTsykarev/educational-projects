{
 "cells": [
  {
   "cell_type": "markdown",
   "id": "dd51cd2b-10a7-4d75-b92b-c1000222ce77",
   "metadata": {},
   "source": [
    "# AA-тест\n",
    "\n",
    "## Описание задачи:\n",
    "Для приложения были созданы два новых алгоритма подбора постов, которые будут показаны пользователю в ленте. Перед проведением A/B теста необходимо оценить корректность разбиения нами пользователей на группы.  \n",
    "  \n",
    "Метрикой вовлеченности пользователя будет доля лайкнутых им постов от просмотренных постов(будем обозначать эту метрику как CTR, а рассчитывать как отношение количества лайков к количеству просмотров постов пользователем).\n",
    "\n",
    "<b>Основная гипотеза:</b> CTR экспериментальных групп не отличается.\n",
    "\n",
    " - Аудитория была разбита на 4 группы: 2, 3 группы - контрольные, 1 и 4 группы - экспериментальные;\n",
    " - Данные для AA-теста собирались с '2022-10-26' по '2022-11-01'\n",
    " - Данные для AB-теста собирались с '2022-11-02' по '2022-11-08'\n"
   ]
  },
  {
   "cell_type": "code",
   "execution_count": 24,
   "id": "eccc9cbd-1825-4d9c-98cf-79d426a65058",
   "metadata": {},
   "outputs": [],
   "source": [
    "import pandas as pd\n",
    "import pandahouse as ph\n",
    "import scipy.stats as stats\n",
    "import numpy as np\n",
    "import seaborn as sns\n",
    "import matplotlib.pyplot as plt"
   ]
  },
  {
   "cell_type": "markdown",
   "id": "400cf20d-94b9-4d7c-9fca-792106ab2a98",
   "metadata": {},
   "source": [
    "## Получаем данные"
   ]
  },
  {
   "cell_type": "code",
   "execution_count": 2,
   "id": "5e6ce40d-498d-4c10-9544-b0fb486a613c",
   "metadata": {},
   "outputs": [
    {
     "data": {
      "text/html": [
       "<div>\n",
       "<style scoped>\n",
       "    .dataframe tbody tr th:only-of-type {\n",
       "        vertical-align: middle;\n",
       "    }\n",
       "\n",
       "    .dataframe tbody tr th {\n",
       "        vertical-align: top;\n",
       "    }\n",
       "\n",
       "    .dataframe thead th {\n",
       "        text-align: right;\n",
       "    }\n",
       "</style>\n",
       "<table border=\"1\" class=\"dataframe\">\n",
       "  <thead>\n",
       "    <tr style=\"text-align: right;\">\n",
       "      <th></th>\n",
       "      <th>user_id</th>\n",
       "      <th>exp_group</th>\n",
       "      <th>like</th>\n",
       "      <th>view</th>\n",
       "    </tr>\n",
       "  </thead>\n",
       "  <tbody>\n",
       "    <tr>\n",
       "      <th>0</th>\n",
       "      <td>115383</td>\n",
       "      <td>3</td>\n",
       "      <td>11</td>\n",
       "      <td>36</td>\n",
       "    </tr>\n",
       "    <tr>\n",
       "      <th>1</th>\n",
       "      <td>18392</td>\n",
       "      <td>1</td>\n",
       "      <td>8</td>\n",
       "      <td>39</td>\n",
       "    </tr>\n",
       "    <tr>\n",
       "      <th>2</th>\n",
       "      <td>123580</td>\n",
       "      <td>3</td>\n",
       "      <td>15</td>\n",
       "      <td>92</td>\n",
       "    </tr>\n",
       "    <tr>\n",
       "      <th>3</th>\n",
       "      <td>131473</td>\n",
       "      <td>2</td>\n",
       "      <td>26</td>\n",
       "      <td>148</td>\n",
       "    </tr>\n",
       "    <tr>\n",
       "      <th>4</th>\n",
       "      <td>107323</td>\n",
       "      <td>4</td>\n",
       "      <td>5</td>\n",
       "      <td>26</td>\n",
       "    </tr>\n",
       "  </tbody>\n",
       "</table>\n",
       "</div>"
      ],
      "text/plain": [
       "   user_id  exp_group  like  view\n",
       "0   115383          3    11    36\n",
       "1    18392          1     8    39\n",
       "2   123580          3    15    92\n",
       "3   131473          2    26   148\n",
       "4   107323          4     5    26"
      ]
     },
     "execution_count": 2,
     "metadata": {},
     "output_type": "execute_result"
    }
   ],
   "source": [
    "connection = {'host': 'https://clickhouse.lab.karpov.courses',\n",
    "                      'database':'simulator_20221120',\n",
    "                      'user':'student', \n",
    "                      'password':'dpo_python_2020'\n",
    "                     }\n",
    "\n",
    "query = '''\n",
    "SELECT user_id,\n",
    "        exp_group,\n",
    "        sum(action = 'like') as like,\n",
    "        sum(action = 'view') as view\n",
    "FROM {db}.feed_actions \n",
    "WHERE toDate(time) >= '2022-10-26' AND toDate(time) <= '2022-11-01'\n",
    "GROUP BY user_id, exp_group\n",
    "'''\n",
    "\n",
    "df = ph.read_clickhouse(query, connection=connection)\n",
    "df.head()"
   ]
  },
  {
   "cell_type": "markdown",
   "id": "2a466a68-009c-4cfe-946a-dd49159e4b04",
   "metadata": {},
   "source": [
    "#### Проверим корректность всех данных:"
   ]
  },
  {
   "cell_type": "code",
   "execution_count": 3,
   "id": "3aa508e8-115c-4ac6-b2c1-82b8f4ab9855",
   "metadata": {},
   "outputs": [
    {
     "name": "stdout",
     "output_type": "stream",
     "text": [
      "<class 'pandas.core.frame.DataFrame'>\n",
      "RangeIndex: 42585 entries, 0 to 42584\n",
      "Data columns (total 4 columns):\n",
      " #   Column     Non-Null Count  Dtype \n",
      "---  ------     --------------  ----- \n",
      " 0   user_id    42585 non-null  uint32\n",
      " 1   exp_group  42585 non-null  int8  \n",
      " 2   like       42585 non-null  uint64\n",
      " 3   view       42585 non-null  uint64\n",
      "dtypes: int8(1), uint32(1), uint64(2)\n",
      "memory usage: 873.5 KB\n"
     ]
    }
   ],
   "source": [
    "df.info()"
   ]
  },
  {
   "cell_type": "markdown",
   "id": "705162a1-5822-4ccb-9a19-0fa4232ee9dc",
   "metadata": {},
   "source": [
    "Пропусков нет, типы данных везде корректны."
   ]
  },
  {
   "cell_type": "code",
   "execution_count": 4,
   "id": "191ed022-bb67-4850-8d6c-fa754b536a80",
   "metadata": {},
   "outputs": [
    {
     "data": {
      "text/plain": [
       "0"
      ]
     },
     "execution_count": 4,
     "metadata": {},
     "output_type": "execute_result"
    }
   ],
   "source": [
    "sum(df.duplicated())"
   ]
  },
  {
   "cell_type": "markdown",
   "id": "71fa0c38-f368-4678-9110-09fa23776ea5",
   "metadata": {},
   "source": [
    "Дублирующихся данных нет."
   ]
  },
  {
   "cell_type": "markdown",
   "id": "113f7231-f5c5-48a6-ba43-1c6244ff0cc2",
   "metadata": {},
   "source": [
    "#### Добавляем интересующую нас метрику"
   ]
  },
  {
   "cell_type": "code",
   "execution_count": 5,
   "id": "bc27f1ab-0168-4bd0-9c5b-d00bc342be0e",
   "metadata": {},
   "outputs": [],
   "source": [
    " df['ctr'] = df['like']/df['view']"
   ]
  },
  {
   "cell_type": "markdown",
   "id": "4ae22d34-322d-4c2e-9a8e-2e9b348974f0",
   "metadata": {},
   "source": [
    "## Распределение пользователей по группам"
   ]
  },
  {
   "cell_type": "code",
   "execution_count": 6,
   "id": "d0688a1d-476d-4840-880b-1ec911312d0f",
   "metadata": {},
   "outputs": [
    {
     "data": {
      "text/plain": [
       "exp_group\n",
       "0    8484\n",
       "1    8537\n",
       "2    8480\n",
       "3    8569\n",
       "4    8515\n",
       "Name: user_id, dtype: int64"
      ]
     },
     "execution_count": 6,
     "metadata": {},
     "output_type": "execute_result"
    }
   ],
   "source": [
    " df.groupby('exp_group').user_id.count()"
   ]
  },
  {
   "cell_type": "markdown",
   "id": "ef37dea6-fd4e-43a7-99e9-4fff8ed17cce",
   "metadata": {},
   "source": [
    "Размеры выборок будем считать приблизительно равными."
   ]
  },
  {
   "cell_type": "markdown",
   "id": "0502059a-cc98-4cf5-ba4e-c8628d8faed2",
   "metadata": {},
   "source": [
    "Проверим есть ли пользователи, одновременно входящие в две группы:"
   ]
  },
  {
   "cell_type": "code",
   "execution_count": 7,
   "id": "425a82a5-3ad8-40ec-b219-b45f25a21089",
   "metadata": {},
   "outputs": [
    {
     "data": {
      "text/html": [
       "<div>\n",
       "<style scoped>\n",
       "    .dataframe tbody tr th:only-of-type {\n",
       "        vertical-align: middle;\n",
       "    }\n",
       "\n",
       "    .dataframe tbody tr th {\n",
       "        vertical-align: top;\n",
       "    }\n",
       "\n",
       "    .dataframe thead th {\n",
       "        text-align: right;\n",
       "    }\n",
       "</style>\n",
       "<table border=\"1\" class=\"dataframe\">\n",
       "  <thead>\n",
       "    <tr style=\"text-align: right;\">\n",
       "      <th></th>\n",
       "      <th>user_id</th>\n",
       "      <th>exp_group</th>\n",
       "    </tr>\n",
       "  </thead>\n",
       "  <tbody>\n",
       "  </tbody>\n",
       "</table>\n",
       "</div>"
      ],
      "text/plain": [
       "Empty DataFrame\n",
       "Columns: [user_id, exp_group]\n",
       "Index: []"
      ]
     },
     "execution_count": 7,
     "metadata": {},
     "output_type": "execute_result"
    }
   ],
   "source": [
    "df.groupby('user_id', as_index=False).exp_group.nunique().query('exp_group > 1')"
   ]
  },
  {
   "cell_type": "markdown",
   "id": "222cdb6f-a349-4665-a923-2f033e5c4068",
   "metadata": {},
   "source": [
    "Группы не пересекаются."
   ]
  },
  {
   "cell_type": "markdown",
   "id": "15683d8d-b266-4bed-8c86-9c9cf0a0390e",
   "metadata": {},
   "source": [
    "## Распределение CTR в группах"
   ]
  },
  {
   "cell_type": "code",
   "execution_count": 25,
   "id": "76afbc42-4d86-40c9-adeb-49bbaebbb871",
   "metadata": {},
   "outputs": [
    {
     "data": {
      "image/png": "[encoded data removed]",
      "text/plain": [
       "<Figure size 432x288 with 1 Axes>"
      ]
     },
     "metadata": {
      "needs_background": "light"
     },
     "output_type": "display_data"
    }
   ],
   "source": [
    "df = df[df['exp_group'].isin([2, 3])]\n",
    "ax = sns.histplot(df, x='ctr', hue='exp_group')\n",
    "ax.set_title('Распределение CTR по группам')\n",
    "plt.show()"
   ]
  },
  {
   "cell_type": "markdown",
   "id": "8113fa85-0c44-4985-9e11-86e08691b489",
   "metadata": {},
   "source": [
    "Распределения в группах схожи и достаточно близки к нормальному, поэтому мы применим тест Стьюдента для оценки схожести средних CTR."
   ]
  },
  {
   "cell_type": "markdown",
   "id": "fcace93a-0f58-4ed6-a621-cd7cbdfcab1a",
   "metadata": {},
   "source": [
    "### Симулирование выборок\n",
    "\n",
    "Для оцени корректности разбиения пользователей по группам проведем 10 000 AA-тестов, для каждого из которых будут просимулированы случайные выборки по 500 пользователей без повторения из исходных групп.\n",
    "\n",
    "В рамках каждого из t-тестов будут условия:  \n",
    "<b>Нулевая гипотеза:</b> средний CTR пользователей в первой и второй группах равен;  \n",
    "<b>Альтернативная гипотеза:</b> средний CTR пользователей в первой и второй группах не равен;"
   ]
  },
  {
   "cell_type": "code",
   "execution_count": 9,
   "id": "3c40e53e-b03f-4764-8fa0-b5dbd9c19efd",
   "metadata": {},
   "outputs": [],
   "source": [
    "p_values = []\n",
    "for _ in range(10000):\n",
    "    second_group = df[df.exp_group == 2].sample(500)\n",
    "    third_grouop = df[df.exp_group == 3].sample(500)\n",
    "    p_values.append(stats.ttest_ind(second_group.ctr, third_grouop.ctr, equal_var=False).pvalue)"
   ]
  },
  {
   "cell_type": "markdown",
   "id": "375bafdb-838f-4ff8-8a6f-cb3e09060968",
   "metadata": {},
   "source": [
    " Изучим распределение полученных для каждой из пар подгрупп pvalue от теста Стьюдента."
   ]
  },
  {
   "cell_type": "code",
   "execution_count": 26,
   "id": "91e1a042-1228-4dfa-bcee-ddd49df68896",
   "metadata": {},
   "outputs": [
    {
     "data": {
      "image/png": "[encoded data removed]",
      "text/plain": [
       "<Figure size 432x288 with 1 Axes>"
      ]
     },
     "metadata": {
      "needs_background": "light"
     },
     "output_type": "display_data"
    }
   ],
   "source": [
    "ax = sns.histplot(p_values)\n",
    "ax.set_title('p-value 10 000 t-тестов')\n",
    "ax.set_xlabel('p-value')\n",
    "plt.show()"
   ]
  },
  {
   "cell_type": "code",
   "execution_count": 11,
   "id": "a6eb485e-91be-4daa-92e2-77273b98c533",
   "metadata": {},
   "outputs": [
    {
     "name": "stdout",
     "output_type": "stream",
     "text": [
      "Доля тестов с p_value ниже 0.05: 4.85%\n"
     ]
    }
   ],
   "source": [
    "print(\"Доля тестов с p_value ниже 0.05: {:.2%}\".format(len([i for i in p_values if i <= 0.05])/10000))"
   ]
  },
  {
   "cell_type": "markdown",
   "id": "d82df358-7074-4bca-b7fc-3d97b1aae2bf",
   "metadata": {},
   "source": [
    "## Вывод:\n",
    "\n",
    " - Доля p-value ниже установленного порогового значения в 0,05 около 5%. Полученные результаты говорят о том,  что между двумя контрольными группами разницы нет и наш способ разбиения на группы не влияет на результат теста."
   ]
  }
 ],
 "metadata": {
  "kernelspec": {
   "display_name": "Python 3 (ipykernel)",
   "language": "python",
   "name": "python3"
  },
  "language_info": {
   "codemirror_mode": {
    "name": "ipython",
    "version": 3
   },
   "file_extension": ".py",
   "mimetype": "text/x-python",
   "name": "python",
   "nbconvert_exporter": "python",
   "pygments_lexer": "ipython3",
   "version": "3.8.10"
  }
 },
 "nbformat": 4,
 "nbformat_minor": 5
}
