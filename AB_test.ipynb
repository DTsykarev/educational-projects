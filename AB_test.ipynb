{
 "cells": [
  {
   "cell_type": "markdown",
   "id": "5e479d79-2f44-4855-9f14-773c016000be",
   "metadata": {},
   "source": [
    "# AB-тест\n",
    "\n",
    "## Описание задачи:\n",
    "Для приложения был создан новый алгоритм подбора постов, которые будут показаны пользователю в ленте. Необходимо провести AB-тест, чтобы оценить эффективность нового алгоритма.  \n",
    "  \n",
    "Метрикой вовлеченности пользователя будет доля лайкнутых им постов от просмотренных постов(будем обозначать эту метрику как CTR, а рассчитывать как отношение количества лайков к количеству просмотров постов пользователем).\n",
    "\n",
    "<b>Основная гипотеза:</b> алгоритм увеличивает вовлеченность пользователей.\n",
    "\n",
    " - Аудитория была разбита на 4 группы: 2 группа - контрольная, 1 группа - экспериментальная;\n",
    " - Данные для AB-теста собирались с '2022-11-02' по '2022-11-08'"
   ]
  },
  {
   "cell_type": "code",
   "execution_count": 1,
   "id": "50a8ddf9-32a6-4316-9475-6701d8c87182",
   "metadata": {},
   "outputs": [],
   "source": [
    "import pandas as pd\n",
    "import pandahouse as ph\n",
    "import scipy.stats as stats\n",
    "import numpy as np\n",
    "import seaborn as sns\n",
    "import matplotlib.pyplot as plt"
   ]
  },
  {
   "cell_type": "markdown",
   "id": "1ff1a1df-35ae-46fb-b23f-8b539a43c665",
   "metadata": {},
   "source": [
    "### Получаем данные"
   ]
  },
  {
   "cell_type": "code",
   "execution_count": 2,
   "id": "9b6696f0-d3d3-4a23-a44e-dbf58154fe15",
   "metadata": {},
   "outputs": [
    {
     "data": {
      "text/html": [
       "<div>\n",
       "<style scoped>\n",
       "    .dataframe tbody tr th:only-of-type {\n",
       "        vertical-align: middle;\n",
       "    }\n",
       "\n",
       "    .dataframe tbody tr th {\n",
       "        vertical-align: top;\n",
       "    }\n",
       "\n",
       "    .dataframe thead th {\n",
       "        text-align: right;\n",
       "    }\n",
       "</style>\n",
       "<table border=\"1\" class=\"dataframe\">\n",
       "  <thead>\n",
       "    <tr style=\"text-align: right;\">\n",
       "      <th></th>\n",
       "      <th>user_id</th>\n",
       "      <th>exp_group</th>\n",
       "      <th>like</th>\n",
       "      <th>view</th>\n",
       "      <th>ctr</th>\n",
       "    </tr>\n",
       "  </thead>\n",
       "  <tbody>\n",
       "    <tr>\n",
       "      <th>0</th>\n",
       "      <td>109963</td>\n",
       "      <td>1</td>\n",
       "      <td>3</td>\n",
       "      <td>15</td>\n",
       "      <td>0.200000</td>\n",
       "    </tr>\n",
       "    <tr>\n",
       "      <th>1</th>\n",
       "      <td>26117</td>\n",
       "      <td>1</td>\n",
       "      <td>32</td>\n",
       "      <td>141</td>\n",
       "      <td>0.226950</td>\n",
       "    </tr>\n",
       "    <tr>\n",
       "      <th>2</th>\n",
       "      <td>138232</td>\n",
       "      <td>1</td>\n",
       "      <td>18</td>\n",
       "      <td>73</td>\n",
       "      <td>0.246575</td>\n",
       "    </tr>\n",
       "    <tr>\n",
       "      <th>3</th>\n",
       "      <td>26295</td>\n",
       "      <td>1</td>\n",
       "      <td>33</td>\n",
       "      <td>122</td>\n",
       "      <td>0.270492</td>\n",
       "    </tr>\n",
       "    <tr>\n",
       "      <th>4</th>\n",
       "      <td>18392</td>\n",
       "      <td>1</td>\n",
       "      <td>7</td>\n",
       "      <td>32</td>\n",
       "      <td>0.218750</td>\n",
       "    </tr>\n",
       "  </tbody>\n",
       "</table>\n",
       "</div>"
      ],
      "text/plain": [
       "   user_id  exp_group  like  view       ctr\n",
       "0   109963          1     3    15  0.200000\n",
       "1    26117          1    32   141  0.226950\n",
       "2   138232          1    18    73  0.246575\n",
       "3    26295          1    33   122  0.270492\n",
       "4    18392          1     7    32  0.218750"
      ]
     },
     "execution_count": 2,
     "metadata": {},
     "output_type": "execute_result"
    }
   ],
   "source": [
    "connection = {'host': 'https://clickhouse.lab.karpov.courses',\n",
    "                      'database':'simulator_20221120',\n",
    "                      'user':'student', \n",
    "                      'password':'dpo_python_2020'\n",
    "                     }\n",
    "\n",
    "query = '''\n",
    "SELECT user_id,\n",
    "        exp_group,\n",
    "        sum(action = 'like') as like,\n",
    "        sum(action = 'view') as view,\n",
    "        like/view as ctr\n",
    "FROM {db}.feed_actions \n",
    "WHERE toDate(time) >= '2022-11-02' AND toDate(time) <= '2022-11-08'\n",
    "GROUP BY user_id, exp_group\n",
    "HAVING exp_group in (1, 2)\n",
    "'''\n",
    "\n",
    "df = ph.read_clickhouse(query, connection=connection)\n",
    "df.head()"
   ]
  },
  {
   "cell_type": "markdown",
   "id": "4e29762c-9710-4946-8959-99c86590df8e",
   "metadata": {},
   "source": [
    "#### Проверка данных"
   ]
  },
  {
   "cell_type": "code",
   "execution_count": 3,
   "id": "99249cfc-87e1-4499-b1f0-8b7be273b569",
   "metadata": {},
   "outputs": [
    {
     "name": "stdout",
     "output_type": "stream",
     "text": [
      "<class 'pandas.core.frame.DataFrame'>\n",
      "RangeIndex: 20031 entries, 0 to 20030\n",
      "Data columns (total 5 columns):\n",
      " #   Column     Non-Null Count  Dtype  \n",
      "---  ------     --------------  -----  \n",
      " 0   user_id    20031 non-null  uint32 \n",
      " 1   exp_group  20031 non-null  int8   \n",
      " 2   like       20031 non-null  uint64 \n",
      " 3   view       20031 non-null  uint64 \n",
      " 4   ctr        20031 non-null  float64\n",
      "dtypes: float64(1), int8(1), uint32(1), uint64(2)\n",
      "memory usage: 567.4 KB\n"
     ]
    }
   ],
   "source": [
    "df.info()"
   ]
  },
  {
   "cell_type": "markdown",
   "id": "0265171d-6148-44c8-9c94-06e0c9784253",
   "metadata": {},
   "source": [
    "Пропусков нет, типы данных корректны."
   ]
  },
  {
   "cell_type": "code",
   "execution_count": 4,
   "id": "47a7cd88-e2c0-4263-9176-068576cfd22d",
   "metadata": {},
   "outputs": [
    {
     "data": {
      "text/plain": [
       "0"
      ]
     },
     "execution_count": 4,
     "metadata": {},
     "output_type": "execute_result"
    }
   ],
   "source": [
    "df.duplicated().sum()"
   ]
  },
  {
   "cell_type": "markdown",
   "id": "5be45cdd-0d5e-4611-8b02-a07120dcbbd6",
   "metadata": {},
   "source": [
    "Дублирующихся данных нет."
   ]
  },
  {
   "cell_type": "markdown",
   "id": "999764db-0a02-4432-b76f-772b96c32b2c",
   "metadata": {},
   "source": [
    "### Оценка групп"
   ]
  },
  {
   "cell_type": "code",
   "execution_count": 5,
   "id": "a2dec655-f3b7-40b7-9175-0d70e61150f4",
   "metadata": {},
   "outputs": [
    {
     "data": {
      "text/plain": [
       "exp_group\n",
       "1    10079\n",
       "2     9952\n",
       "Name: user_id, dtype: int64"
      ]
     },
     "execution_count": 5,
     "metadata": {},
     "output_type": "execute_result"
    }
   ],
   "source": [
    "df.groupby('exp_group').user_id.count()"
   ]
  },
  {
   "cell_type": "markdown",
   "id": "0d7f4c2b-1eb8-4ad4-aad0-0ac974661e90",
   "metadata": {},
   "source": [
    "Размеры выборок будем считать приблизительно равными.\n",
    "\n",
    "Проверим пересечение групп:"
   ]
  },
  {
   "cell_type": "code",
   "execution_count": 6,
   "id": "f0a8e48f-c4fd-4a55-b436-1bc15a8ec4a2",
   "metadata": {},
   "outputs": [
    {
     "data": {
      "text/html": [
       "<div>\n",
       "<style scoped>\n",
       "    .dataframe tbody tr th:only-of-type {\n",
       "        vertical-align: middle;\n",
       "    }\n",
       "\n",
       "    .dataframe tbody tr th {\n",
       "        vertical-align: top;\n",
       "    }\n",
       "\n",
       "    .dataframe thead th {\n",
       "        text-align: right;\n",
       "    }\n",
       "</style>\n",
       "<table border=\"1\" class=\"dataframe\">\n",
       "  <thead>\n",
       "    <tr style=\"text-align: right;\">\n",
       "      <th></th>\n",
       "      <th>user_id</th>\n",
       "      <th>exp_group</th>\n",
       "    </tr>\n",
       "  </thead>\n",
       "  <tbody>\n",
       "  </tbody>\n",
       "</table>\n",
       "</div>"
      ],
      "text/plain": [
       "Empty DataFrame\n",
       "Columns: [user_id, exp_group]\n",
       "Index: []"
      ]
     },
     "execution_count": 6,
     "metadata": {},
     "output_type": "execute_result"
    }
   ],
   "source": [
    "df.groupby('user_id', as_index=False).exp_group.nunique().query('exp_group > 1')"
   ]
  },
  {
   "cell_type": "markdown",
   "id": "eee07f12-4a12-411c-82ed-26ac5ad74b18",
   "metadata": {},
   "source": [
    "Пересечений между группами нет."
   ]
  },
  {
   "cell_type": "markdown",
   "id": "ea999edf-85c9-4b4e-af06-4ac7c4ac1957",
   "metadata": {},
   "source": [
    "<b>Распределение CTR по группам</b>:"
   ]
  },
  {
   "cell_type": "code",
   "execution_count": 7,
   "id": "d47d9640-b317-443a-90fb-52a16f845490",
   "metadata": {},
   "outputs": [
    {
     "data": {
      "image/png": "[encoded data removed]",
      "text/plain": [
       "<Figure size 1080x432 with 1 Axes>"
      ]
     },
     "metadata": {},
     "output_type": "display_data"
    }
   ],
   "source": [
    "sns.set(rc = {'figure.figsize':(15,6)})\n",
    "ax = sns.histplot(df[df['exp_group'].isin([1, 2])], x = 'ctr', hue = 'exp_group')\n",
    "ax.set_title('Гистограмма распределения CTR по группам')\n",
    "plt.show()"
   ]
  },
  {
   "cell_type": "markdown",
   "id": "0aa99113-bebb-41e1-94ea-002fa42caaf2",
   "metadata": {},
   "source": [
    "На гистограмме видно, что во второй группе распределение CTR не похоже на нормальное и бимодально. \n",
    "\n",
    "##### Возможная причина бимодальности распределния CTR во 2-ой группе:\n",
    "Одно из возможных обяснений появления бимодального распределения в тестовой группе - применение алгоритма на пользователях с недостаточным количеством данных для качественного определения их предпочтений. В таком случае алгоритм будет выдавать не релевантные посты для пользователей с недостатком данных и наборот, будет увеличивать релевантность выдачи для пользователей с достаточным количеством данных."
   ]
  },
  {
   "cell_type": "markdown",
   "id": "0c6c7335-4062-40c6-a5c2-a7de0c6fe786",
   "metadata": {},
   "source": [
    "### Тест Манна-Уитни\n",
    "\n",
    "Т.к. сильно отклонение от нормальности может негативно отразится на точности t-теста, применим тест Манна-Уитни для оценки разницы между группами, разнообразие значений в каждой из выборок достаточно велико.\n",
    "\n",
    "<b>Нулевая гипотеза:</b> Вероятность того, что CTR случайного пользователяо из 1 группы больше CTR пользователя из 2 группы, - 50%.  \n",
    "<b>Альтернативная гипотеза:</b> Вероятность того, что CTR случайного пользователяо из 1 группы больше CTR пользователя из 2 группы, - не равна 50%.  \n",
    "<b>Уровень значимости:</b> 0,05"
   ]
  },
  {
   "cell_type": "code",
   "execution_count": 8,
   "id": "55ac73cf-7d9c-4c84-a10c-54d4aa747198",
   "metadata": {},
   "outputs": [
    {
     "data": {
      "text/plain": [
       "MannwhitneyuResult(statistic=56601260.5, pvalue=6.0376484617779035e-56)"
      ]
     },
     "execution_count": 8,
     "metadata": {},
     "output_type": "execute_result"
    }
   ],
   "source": [
    "stats.mannwhitneyu(df[df.exp_group == 1].ctr, \n",
    "                   df[df.exp_group == 2].ctr,\n",
    "                   alternative = 'two-sided')"
   ]
  },
  {
   "cell_type": "markdown",
   "id": "6b81f7e7-0b61-48b2-a62d-6e14c0e3785d",
   "metadata": {},
   "source": [
    "p-value значительно ниже 0,05, поэтому мы принимаем альтернативную гипотезу."
   ]
  },
  {
   "cell_type": "markdown",
   "id": "e6fcb972-03c1-4a7f-8a9f-d311830c2243",
   "metadata": {},
   "source": [
    "По графику распределения видим, что вероятность получить более высокий  CTR выше в 1-ой(контрольной) группе.  \n",
    "Сравним средние CTR-ы по групам."
   ]
  },
  {
   "cell_type": "code",
   "execution_count": 9,
   "id": "7ae273d0-a240-4069-a60c-e2354835d3b5",
   "metadata": {},
   "outputs": [
    {
     "data": {
      "text/plain": [
       "exp_group\n",
       "1    0.215605\n",
       "2    0.214419\n",
       "Name: ctr, dtype: float64"
      ]
     },
     "execution_count": 9,
     "metadata": {},
     "output_type": "execute_result"
    }
   ],
   "source": [
    "df.groupby('exp_group').ctr.mean()"
   ]
  },
  {
   "cell_type": "markdown",
   "id": "31916038-78d9-4836-bd40-8406193152f7",
   "metadata": {},
   "source": [
    "Средний CTR в контрольной группе немного выше, но разница всего - 0,12%. При этом, как мы выяснили, для большинства польлзователй активность после применения нового алгоритма снижается, а для оставшихся - растет."
   ]
  },
  {
   "cell_type": "markdown",
   "id": "20efe708-555c-4d0f-bfbc-294298d70295",
   "metadata": {},
   "source": [
    "<b>Результат теста:</b> мы отклоняем нулевую гипотезу о независимости вероятности получить более высокий CTR в зависимости от группы. Вероятность получить более высокий CTR выше в первой(контрольной) группе."
   ]
  },
  {
   "cell_type": "markdown",
   "id": "9d4e5486-a984-491d-be68-0ab9447a4067",
   "metadata": {},
   "source": [
    "## Пуассоновский бутстреп"
   ]
  },
  {
   "cell_type": "markdown",
   "id": "aaab4d00-9ee6-4dc4-b04d-c99d488fdb87",
   "metadata": {},
   "source": [
    "Проведем также тест с помощью Пуассоновского бутстрепа, в рамках котрого сгенерируем 2000 подвыборок для каждой группы и найдем их ctr."
   ]
  },
  {
   "cell_type": "code",
   "execution_count": 10,
   "id": "4e7151aa-c5e4-47d3-a65e-56670e804fa6",
   "metadata": {},
   "outputs": [],
   "source": [
    "### Функция, возвращающая массивы ctr для сгенерированных подворок для групп.\n",
    "def bootstrap(likes1, views1, likes2, views2, n_bootstrap=2000):\n",
    "    #Для каждого пользователя герируем его вес в соответсвии с Пуассоновским распределением 2000 раз\n",
    "    poisson_bootstraps1 = stats.poisson(1).rvs((n_bootstrap, len(likes1))).astype(np.int64)\n",
    "    poisson_bootstraps2 = stats.poisson(1).rvs((n_bootstrap, len(likes2))).astype(np.int64)\n",
    "    \n",
    "    globalCTR1 = (poisson_bootstraps1*likes1).sum(axis=1)/(poisson_bootstraps1*views1).sum(axis=1)    \n",
    "    globalCTR2 = (poisson_bootstraps2*likes2).sum(axis=1)/(poisson_bootstraps2*views2).sum(axis=1)\n",
    "\n",
    "    return globalCTR1, globalCTR2"
   ]
  },
  {
   "cell_type": "code",
   "execution_count": 11,
   "id": "6b28f8c1-1c71-4ddb-b055-81307b301185",
   "metadata": {},
   "outputs": [],
   "source": [
    "### Применяем функцию к нашим данным\n",
    "likes1 = df[df.exp_group == 1].like.to_numpy()\n",
    "views1 = df[df.exp_group == 1].view.to_numpy()\n",
    "likes2 = df[df.exp_group == 2].like.to_numpy()\n",
    "views2 = df[df.exp_group == 2].view.to_numpy()\n",
    "\n",
    "ctr1, ctr2 = bootstrap(likes1, views1, likes2, views2)"
   ]
  },
  {
   "cell_type": "markdown",
   "id": "45962776-e0df-4d47-ae54-912808e038d1",
   "metadata": {},
   "source": [
    "Посмотрим получившиеся распределения CTR с помощью столбчатой гистограммы:"
   ]
  },
  {
   "cell_type": "code",
   "execution_count": 12,
   "id": "f4739a1b-51bc-407c-a8df-bec22670368b",
   "metadata": {},
   "outputs": [
    {
     "data": {
      "image/png": "[encoded data removed]",
      "text/plain": [
       "<Figure size 1080x432 with 1 Axes>"
      ]
     },
     "metadata": {},
     "output_type": "display_data"
    }
   ],
   "source": [
    "bs_df = pd.DataFrame({\n",
    "    'group': np.concatenate((np.array([1 for i in ctr1]), np.array([2 for i in ctr2]))),\n",
    "    'ctr':np.concatenate((ctr1, ctr2))\n",
    "})\n",
    "\n",
    "ax = sns.histplot(data=bs_df, x='ctr', hue='group', bins=60)\n",
    "ax.set_title('Распределение среднего CTR по группам')\n",
    "plt.show()"
   ]
  },
  {
   "cell_type": "markdown",
   "id": "cc3e792e-d28b-4ddd-999e-751ee3b391e7",
   "metadata": {},
   "source": [
    "<b>Выводы:</b> во всех сгенерированных подвыборках средний CTR контрольной группы выше, чем в контрольной группе, что подкрепляет результаты теста Манна Уитни."
   ]
  },
  {
   "cell_type": "markdown",
   "id": "264d7ccd-6b5c-4125-9fa7-24e4e9ac62df",
   "metadata": {},
   "source": [
    "### Рекомендации\n",
    "\n",
    " - Средний CTR в контрольной группе немного выше: разница всего - 0,12%. При этом, как мы выяснили, для большинства польлзователй активность после применения нового алгоритма снижается, а для оставшихся - растет.\n",
    " - Мы не рекомендуем применять новый алгоритм ко всем пользователям, он снижает вовлеченность большинства пользователей.\n",
    " - Также рекомендуем провести дополнительное исследование причин бимодальности распределения CTR в контрольной группе. Одна из возможных причин - прменение алгоритма на пользователях с недостаточным количеством данных для качественного определения их предпочтений."
   ]
  }
 ],
 "metadata": {
  "kernelspec": {
   "display_name": "Python 3 (ipykernel)",
   "language": "python",
   "name": "python3"
  },
  "language_info": {
   "codemirror_mode": {
    "name": "ipython",
    "version": 3
   },
   "file_extension": ".py",
   "mimetype": "text/x-python",
   "name": "python",
   "nbconvert_exporter": "python",
   "pygments_lexer": "ipython3",
   "version": "3.8.10"
  }
 },
 "nbformat": 4,
 "nbformat_minor": 5
}
