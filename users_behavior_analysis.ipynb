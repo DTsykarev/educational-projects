{
 "cells": [
  {
   "cell_type": "markdown",
   "metadata": {},
   "source": [
    "## Краткое описание проекта:\n",
    "\n",
    "Стартап занимается продажей продуктов питания. Необходимо разобраться, как ведут себя пользователи его мобильного приложения.\n",
    "\n",
    "<b>Цели:</b>\n",
    " - изучить воронку продаж;\n",
    " - исследовать результаты A/A/B эксперимента по замене шрифта;\n",
    " \n",
    " \n",
    " <b>Данные:</b>\n",
    " \n",
    " Каждая запись в логе — это действие пользователя, или событие.\n",
    " - EventName — название события;\n",
    " - eviceIDHash — уникальный идентификатор пользовател;\n",
    " - EventTimestamp — время события;\n",
    " - ExpId — номер эксперимента: 246 и 247 — контрольные группы, а 248 — экспериментальная."
   ]
  },
  {
   "cell_type": "markdown",
   "metadata": {},
   "source": [
    "## Подготовка данных"
   ]
  },
  {
   "cell_type": "code",
   "execution_count": 1,
   "metadata": {},
   "outputs": [],
   "source": [
    "import pandas as pd\n",
    "import seaborn as sns\n",
    "import matplotlib.pyplot as plt\n",
    "import math as mth\n",
    "from scipy import stats as st\n",
    "import warnings\n",
    "\n",
    "warnings.filterwarnings('ignore')"
   ]
  },
  {
   "cell_type": "code",
   "execution_count": 2,
   "metadata": {},
   "outputs": [
    {
     "data": {
      "text/html": [
       "<div>\n",
       "<style scoped>\n",
       "    .dataframe tbody tr th:only-of-type {\n",
       "        vertical-align: middle;\n",
       "    }\n",
       "\n",
       "    .dataframe tbody tr th {\n",
       "        vertical-align: top;\n",
       "    }\n",
       "\n",
       "    .dataframe thead th {\n",
       "        text-align: right;\n",
       "    }\n",
       "</style>\n",
       "<table border=\"1\" class=\"dataframe\">\n",
       "  <thead>\n",
       "    <tr style=\"text-align: right;\">\n",
       "      <th></th>\n",
       "      <th>EventName</th>\n",
       "      <th>DeviceIDHash</th>\n",
       "      <th>EventTimestamp</th>\n",
       "      <th>ExpId</th>\n",
       "    </tr>\n",
       "  </thead>\n",
       "  <tbody>\n",
       "    <tr>\n",
       "      <th>0</th>\n",
       "      <td>MainScreenAppear</td>\n",
       "      <td>4575588528974610257</td>\n",
       "      <td>1564029816</td>\n",
       "      <td>246</td>\n",
       "    </tr>\n",
       "    <tr>\n",
       "      <th>1</th>\n",
       "      <td>MainScreenAppear</td>\n",
       "      <td>7416695313311560658</td>\n",
       "      <td>1564053102</td>\n",
       "      <td>246</td>\n",
       "    </tr>\n",
       "  </tbody>\n",
       "</table>\n",
       "</div>"
      ],
      "text/plain": [
       "          EventName         DeviceIDHash  EventTimestamp  ExpId\n",
       "0  MainScreenAppear  4575588528974610257      1564029816    246\n",
       "1  MainScreenAppear  7416695313311560658      1564053102    246"
      ]
     },
     "execution_count": 2,
     "metadata": {},
     "output_type": "execute_result"
    }
   ],
   "source": [
    "logs = pd.read_csv('/datasets/logs_exp.csv', sep = '\\t')\n",
    "logs.head(2)"
   ]
  },
  {
   "cell_type": "markdown",
   "metadata": {},
   "source": [
    "Для удобства переименуем названия столбцов: добавим между словами нижние подчеркивания и приведем все к нижнему регистру."
   ]
  },
  {
   "cell_type": "code",
   "execution_count": 3,
   "metadata": {},
   "outputs": [
    {
     "data": {
      "text/html": [
       "<div>\n",
       "<style scoped>\n",
       "    .dataframe tbody tr th:only-of-type {\n",
       "        vertical-align: middle;\n",
       "    }\n",
       "\n",
       "    .dataframe tbody tr th {\n",
       "        vertical-align: top;\n",
       "    }\n",
       "\n",
       "    .dataframe thead th {\n",
       "        text-align: right;\n",
       "    }\n",
       "</style>\n",
       "<table border=\"1\" class=\"dataframe\">\n",
       "  <thead>\n",
       "    <tr style=\"text-align: right;\">\n",
       "      <th></th>\n",
       "      <th>event_name</th>\n",
       "      <th>device_id_hash</th>\n",
       "      <th>event_times_stamp</th>\n",
       "      <th>exp_id</th>\n",
       "    </tr>\n",
       "  </thead>\n",
       "  <tbody>\n",
       "    <tr>\n",
       "      <th>0</th>\n",
       "      <td>MainScreenAppear</td>\n",
       "      <td>4575588528974610257</td>\n",
       "      <td>1564029816</td>\n",
       "      <td>246</td>\n",
       "    </tr>\n",
       "    <tr>\n",
       "      <th>1</th>\n",
       "      <td>MainScreenAppear</td>\n",
       "      <td>7416695313311560658</td>\n",
       "      <td>1564053102</td>\n",
       "      <td>246</td>\n",
       "    </tr>\n",
       "  </tbody>\n",
       "</table>\n",
       "</div>"
      ],
      "text/plain": [
       "         event_name       device_id_hash  event_times_stamp  exp_id\n",
       "0  MainScreenAppear  4575588528974610257         1564029816     246\n",
       "1  MainScreenAppear  7416695313311560658         1564053102     246"
      ]
     },
     "execution_count": 3,
     "metadata": {},
     "output_type": "execute_result"
    }
   ],
   "source": [
    "logs = logs.rename(columns = {\n",
    "    'EventName': 'event_name',\n",
    "    'DeviceIDHash':'device_id_hash',\n",
    "    'EventTimestamp':'event_times_stamp',\n",
    "    'ExpId':'exp_id'\n",
    "})\n",
    "logs.head(2)"
   ]
  },
  {
   "cell_type": "code",
   "execution_count": 4,
   "metadata": {},
   "outputs": [
    {
     "name": "stdout",
     "output_type": "stream",
     "text": [
      "<class 'pandas.core.frame.DataFrame'>\n",
      "RangeIndex: 244126 entries, 0 to 244125\n",
      "Data columns (total 4 columns):\n",
      " #   Column             Non-Null Count   Dtype \n",
      "---  ------             --------------   ----- \n",
      " 0   event_name         244126 non-null  object\n",
      " 1   device_id_hash     244126 non-null  int64 \n",
      " 2   event_times_stamp  244126 non-null  int64 \n",
      " 3   exp_id             244126 non-null  int64 \n",
      "dtypes: int64(3), object(1)\n",
      "memory usage: 7.5+ MB\n"
     ]
    }
   ],
   "source": [
    "logs.info()"
   ]
  },
  {
   "cell_type": "markdown",
   "metadata": {},
   "source": [
    "Пропусков нет, но необходимо заменить тип данных в столбце event_times_stamp на время."
   ]
  },
  {
   "cell_type": "code",
   "execution_count": 5,
   "metadata": {},
   "outputs": [
    {
     "data": {
      "text/plain": [
       "dtype('<M8[ns]')"
      ]
     },
     "execution_count": 5,
     "metadata": {},
     "output_type": "execute_result"
    }
   ],
   "source": [
    "logs['event_times_stamp'] = pd.to_datetime(logs['event_times_stamp'], unit='s')\n",
    "logs['event_times_stamp'].dtype"
   ]
  },
  {
   "cell_type": "markdown",
   "metadata": {},
   "source": [
    "Отдельно добавим столбец с датой:"
   ]
  },
  {
   "cell_type": "code",
   "execution_count": 6,
   "metadata": {},
   "outputs": [
    {
     "data": {
      "text/html": [
       "<div>\n",
       "<style scoped>\n",
       "    .dataframe tbody tr th:only-of-type {\n",
       "        vertical-align: middle;\n",
       "    }\n",
       "\n",
       "    .dataframe tbody tr th {\n",
       "        vertical-align: top;\n",
       "    }\n",
       "\n",
       "    .dataframe thead th {\n",
       "        text-align: right;\n",
       "    }\n",
       "</style>\n",
       "<table border=\"1\" class=\"dataframe\">\n",
       "  <thead>\n",
       "    <tr style=\"text-align: right;\">\n",
       "      <th></th>\n",
       "      <th>event_name</th>\n",
       "      <th>device_id_hash</th>\n",
       "      <th>event_times_stamp</th>\n",
       "      <th>exp_id</th>\n",
       "      <th>date</th>\n",
       "    </tr>\n",
       "  </thead>\n",
       "  <tbody>\n",
       "    <tr>\n",
       "      <th>0</th>\n",
       "      <td>MainScreenAppear</td>\n",
       "      <td>4575588528974610257</td>\n",
       "      <td>2019-07-25 04:43:36</td>\n",
       "      <td>246</td>\n",
       "      <td>2019-07-25</td>\n",
       "    </tr>\n",
       "    <tr>\n",
       "      <th>1</th>\n",
       "      <td>MainScreenAppear</td>\n",
       "      <td>7416695313311560658</td>\n",
       "      <td>2019-07-25 11:11:42</td>\n",
       "      <td>246</td>\n",
       "      <td>2019-07-25</td>\n",
       "    </tr>\n",
       "  </tbody>\n",
       "</table>\n",
       "</div>"
      ],
      "text/plain": [
       "         event_name       device_id_hash   event_times_stamp  exp_id  \\\n",
       "0  MainScreenAppear  4575588528974610257 2019-07-25 04:43:36     246   \n",
       "1  MainScreenAppear  7416695313311560658 2019-07-25 11:11:42     246   \n",
       "\n",
       "         date  \n",
       "0  2019-07-25  \n",
       "1  2019-07-25  "
      ]
     },
     "execution_count": 6,
     "metadata": {},
     "output_type": "execute_result"
    }
   ],
   "source": [
    "logs['date'] = logs['event_times_stamp'].dt.date\n",
    "logs.head(2)"
   ]
  },
  {
   "cell_type": "markdown",
   "metadata": {},
   "source": [
    "Рассмотрим наличие ошибок в event_name"
   ]
  },
  {
   "cell_type": "code",
   "execution_count": 7,
   "metadata": {},
   "outputs": [
    {
     "data": {
      "text/plain": [
       "array(['MainScreenAppear', 'PaymentScreenSuccessful', 'CartScreenAppear',\n",
       "       'OffersScreenAppear', 'Tutorial'], dtype=object)"
      ]
     },
     "execution_count": 7,
     "metadata": {},
     "output_type": "execute_result"
    }
   ],
   "source": [
    "logs['event_name'].unique()"
   ]
  },
  {
   "cell_type": "markdown",
   "metadata": {},
   "source": [
    "Названий с ошибками нет. Для дальнейшего удобства также заменим обозначения на более простые: приведем к нижнему регистру, а между словами вставим пробелы."
   ]
  },
  {
   "cell_type": "code",
   "execution_count": 8,
   "metadata": {},
   "outputs": [
    {
     "data": {
      "text/plain": [
       "array(['main screen appear', 'payment screen successful',\n",
       "       'cart screen appear', 'offers screen appear', 'tutorial'],\n",
       "      dtype=object)"
      ]
     },
     "execution_count": 8,
     "metadata": {},
     "output_type": "execute_result"
    }
   ],
   "source": [
    "old_events = logs['event_name'].unique()\n",
    "clear_events = ['main screen appear', 'payment screen successful', 'cart screen appear', \n",
    "                'offers screen appear', 'tutorial']\n",
    "\n",
    "event_counter = 0\n",
    "for i in old_events:\n",
    "    logs.loc[logs['event_name'] == i, 'event_name'] = clear_events[event_counter]\n",
    "    event_counter += 1\n",
    "    \n",
    "logs['event_name'].unique()"
   ]
  },
  {
   "cell_type": "markdown",
   "metadata": {},
   "source": [
    "Проверим наличие очевидно не корректных данных в столбцах event_time_stamp и  exp_id:"
   ]
  },
  {
   "cell_type": "code",
   "execution_count": 9,
   "metadata": {},
   "outputs": [
    {
     "data": {
      "text/plain": [
       "array([246, 248, 247])"
      ]
     },
     "execution_count": 9,
     "metadata": {},
     "output_type": "execute_result"
    }
   ],
   "source": [
    "logs['exp_id'].unique()"
   ]
  },
  {
   "cell_type": "markdown",
   "metadata": {},
   "source": [
    "Все значения корректны."
   ]
  },
  {
   "cell_type": "code",
   "execution_count": 10,
   "metadata": {},
   "outputs": [
    {
     "data": {
      "text/plain": [
       "[Timestamp('2019-07-25 04:43:36'), Timestamp('2019-08-07 21:15:17')]"
      ]
     },
     "execution_count": 10,
     "metadata": {},
     "output_type": "execute_result"
    }
   ],
   "source": [
    "[logs['event_times_stamp'].min(), logs['event_times_stamp'].max()]"
   ]
  },
  {
   "cell_type": "markdown",
   "metadata": {},
   "source": [
    "Все значения корректны.  \n",
    "\n",
    "Проверим наличие дубликатов:"
   ]
  },
  {
   "cell_type": "code",
   "execution_count": 11,
   "metadata": {},
   "outputs": [
    {
     "data": {
      "text/plain": [
       "413"
      ]
     },
     "execution_count": 11,
     "metadata": {},
     "output_type": "execute_result"
    }
   ],
   "source": [
    "sum(logs.duplicated())"
   ]
  },
  {
   "cell_type": "markdown",
   "metadata": {},
   "source": [
    "Обнаружили 413 дубликатов, это ошибочные данные, т.к. действие фиксируются с точностью до секунды и один пользователь не может в одну секунду выполнить одно и то же действие дважды. Поэтому избавимся от дубликатов."
   ]
  },
  {
   "cell_type": "code",
   "execution_count": 12,
   "metadata": {},
   "outputs": [
    {
     "data": {
      "text/plain": [
       "0"
      ]
     },
     "execution_count": 12,
     "metadata": {},
     "output_type": "execute_result"
    }
   ],
   "source": [
    "logs = logs.drop_duplicates(ignore_index=True)\n",
    "sum(logs.duplicated())"
   ]
  },
  {
   "cell_type": "markdown",
   "metadata": {},
   "source": [
    "Сразу проверим наличие пользователей, которые одновременно попадают в несколько групп, и если такие будут, то уберем их:"
   ]
  },
  {
   "cell_type": "code",
   "execution_count": 13,
   "metadata": {},
   "outputs": [
    {
     "data": {
      "text/plain": [
       "1"
      ]
     },
     "execution_count": 13,
     "metadata": {},
     "output_type": "execute_result"
    }
   ],
   "source": [
    "group_users = logs.groupby('device_id_hash', as_index = False).agg({'exp_id':'nunique'})\n",
    "group_users = group_users.sort_values(by = 'exp_id', ascending = False)\n",
    "group_users['exp_id'].max()"
   ]
  },
  {
   "cell_type": "markdown",
   "metadata": {},
   "source": [
    "Пользователей, входящих одновременно в несколько групп, нет."
   ]
  },
  {
   "cell_type": "markdown",
   "metadata": {},
   "source": [
    "<b>Вывод: </b> в процессе подготовки\n",
    " - заменили тип данных столбца event_times_stamp, \n",
    " - добавили столбец date с датой лога, \n",
    " - привели к нижнему регистру и добавили нижние подчеркивания в названиях столбцов, \n",
    " - удалили дубликаты."
   ]
  },
  {
   "cell_type": "markdown",
   "metadata": {},
   "source": [
    "## Изучение и проверка данных\n",
    "\n",
    "### Количество событий и пользователей в логе"
   ]
  },
  {
   "cell_type": "code",
   "execution_count": 14,
   "metadata": {},
   "outputs": [
    {
     "name": "stdout",
     "output_type": "stream",
     "text": [
      "Всего событий в логе: 243713\n",
      "Всего пользователей в логе: 7551\n"
     ]
    }
   ],
   "source": [
    "print('Всего событий в логе:', len(logs))\n",
    "print('Всего пользователей в логе:', logs['device_id_hash'].nunique())"
   ]
  },
  {
   "cell_type": "markdown",
   "metadata": {},
   "source": [
    "### Среднее количество событий на пользователя"
   ]
  },
  {
   "cell_type": "markdown",
   "metadata": {},
   "source": [
    "Чтобы понять лучше использовать срденее или медиану изучим распределение количества событий на пользователя."
   ]
  },
  {
   "cell_type": "code",
   "execution_count": 15,
   "metadata": {},
   "outputs": [
    {
     "data": {
      "text/plain": [
       "Text(0, 0.5, 'Пользователи')"
      ]
     },
     "execution_count": 15,
     "metadata": {},
     "output_type": "execute_result"
    },
    {
     "data": {
      "image/png": "[encoded data removed]",
      "text/plain": [
       "<Figure size 936x504 with 1 Axes>"
      ]
     },
     "metadata": {
      "needs_background": "light"
     },
     "output_type": "display_data"
    }
   ],
   "source": [
    "plt.figure(figsize=(13, 7))\n",
    "plt.title('Количество событий на пользователя')\n",
    "ax = logs.groupby('device_id_hash', as_index=False).agg({'exp_id':'count'})['exp_id'].hist(bins = 40)\n",
    "ax.set_xlabel('События')\n",
    "ax.set_ylabel('Пользователи')"
   ]
  },
  {
   "cell_type": "code",
   "execution_count": 16,
   "metadata": {},
   "outputs": [
    {
     "data": {
      "text/plain": [
       "count    7551.000000\n",
       "mean       32.275593\n",
       "std        65.154219\n",
       "min         1.000000\n",
       "25%         9.000000\n",
       "50%        20.000000\n",
       "75%        37.000000\n",
       "max      2307.000000\n",
       "Name: exp_id, dtype: float64"
      ]
     },
     "execution_count": 16,
     "metadata": {},
     "output_type": "execute_result"
    }
   ],
   "source": [
    "logs.groupby('device_id_hash', as_index=False).agg({'exp_id':'count'})['exp_id'].describe()"
   ]
  },
  {
   "cell_type": "markdown",
   "metadata": {},
   "source": [
    "Срденее значение значение - 32 события, а медианное - 20, это говорит о наличии небольшого числа пользователей с большим количеством событий, существенно выше среднестатистического. Максимальное значение - 2 307 событий на одного пользователя."
   ]
  },
  {
   "cell_type": "markdown",
   "metadata": {},
   "source": [
    "### Период"
   ]
  },
  {
   "cell_type": "markdown",
   "metadata": {},
   "source": [
    "Исследуем период проведения теста:"
   ]
  },
  {
   "cell_type": "code",
   "execution_count": 17,
   "metadata": {},
   "outputs": [
    {
     "name": "stdout",
     "output_type": "stream",
     "text": [
      "min: 2019-07-25 \n",
      "max: 2019-08-07\n"
     ]
    }
   ],
   "source": [
    "print('min:', logs['date'].min(),'\\nmax:', logs['date'].max())"
   ]
  },
  {
   "cell_type": "code",
   "execution_count": 18,
   "metadata": {},
   "outputs": [
    {
     "name": "stdout",
     "output_type": "stream",
     "text": [
      "Продоложительность: 14\n"
     ]
    }
   ],
   "source": [
    "print('Продоложительность:', logs['date'].nunique())"
   ]
  },
  {
   "cell_type": "markdown",
   "metadata": {},
   "source": [
    "Проверим во все ли дни были одинаково полные данные:"
   ]
  },
  {
   "cell_type": "code",
   "execution_count": 19,
   "metadata": {},
   "outputs": [
    {
     "data": {
      "text/html": [
       "<div>\n",
       "<style scoped>\n",
       "    .dataframe tbody tr th:only-of-type {\n",
       "        vertical-align: middle;\n",
       "    }\n",
       "\n",
       "    .dataframe tbody tr th {\n",
       "        vertical-align: top;\n",
       "    }\n",
       "\n",
       "    .dataframe thead th {\n",
       "        text-align: right;\n",
       "    }\n",
       "</style>\n",
       "<table border=\"1\" class=\"dataframe\">\n",
       "  <thead>\n",
       "    <tr style=\"text-align: right;\">\n",
       "      <th></th>\n",
       "      <th>date</th>\n",
       "      <th>exp_id</th>\n",
       "    </tr>\n",
       "  </thead>\n",
       "  <tbody>\n",
       "    <tr>\n",
       "      <th>0</th>\n",
       "      <td>2019-07-25</td>\n",
       "      <td>9</td>\n",
       "    </tr>\n",
       "    <tr>\n",
       "      <th>1</th>\n",
       "      <td>2019-07-26</td>\n",
       "      <td>31</td>\n",
       "    </tr>\n",
       "    <tr>\n",
       "      <th>2</th>\n",
       "      <td>2019-07-27</td>\n",
       "      <td>55</td>\n",
       "    </tr>\n",
       "    <tr>\n",
       "      <th>3</th>\n",
       "      <td>2019-07-28</td>\n",
       "      <td>105</td>\n",
       "    </tr>\n",
       "    <tr>\n",
       "      <th>4</th>\n",
       "      <td>2019-07-29</td>\n",
       "      <td>184</td>\n",
       "    </tr>\n",
       "    <tr>\n",
       "      <th>5</th>\n",
       "      <td>2019-07-30</td>\n",
       "      <td>412</td>\n",
       "    </tr>\n",
       "    <tr>\n",
       "      <th>6</th>\n",
       "      <td>2019-07-31</td>\n",
       "      <td>2030</td>\n",
       "    </tr>\n",
       "    <tr>\n",
       "      <th>7</th>\n",
       "      <td>2019-08-01</td>\n",
       "      <td>36141</td>\n",
       "    </tr>\n",
       "    <tr>\n",
       "      <th>8</th>\n",
       "      <td>2019-08-02</td>\n",
       "      <td>35554</td>\n",
       "    </tr>\n",
       "    <tr>\n",
       "      <th>9</th>\n",
       "      <td>2019-08-03</td>\n",
       "      <td>33282</td>\n",
       "    </tr>\n",
       "    <tr>\n",
       "      <th>10</th>\n",
       "      <td>2019-08-04</td>\n",
       "      <td>32968</td>\n",
       "    </tr>\n",
       "    <tr>\n",
       "      <th>11</th>\n",
       "      <td>2019-08-05</td>\n",
       "      <td>36058</td>\n",
       "    </tr>\n",
       "    <tr>\n",
       "      <th>12</th>\n",
       "      <td>2019-08-06</td>\n",
       "      <td>35788</td>\n",
       "    </tr>\n",
       "    <tr>\n",
       "      <th>13</th>\n",
       "      <td>2019-08-07</td>\n",
       "      <td>31096</td>\n",
       "    </tr>\n",
       "  </tbody>\n",
       "</table>\n",
       "</div>"
      ],
      "text/plain": [
       "          date  exp_id\n",
       "0   2019-07-25       9\n",
       "1   2019-07-26      31\n",
       "2   2019-07-27      55\n",
       "3   2019-07-28     105\n",
       "4   2019-07-29     184\n",
       "5   2019-07-30     412\n",
       "6   2019-07-31    2030\n",
       "7   2019-08-01   36141\n",
       "8   2019-08-02   35554\n",
       "9   2019-08-03   33282\n",
       "10  2019-08-04   32968\n",
       "11  2019-08-05   36058\n",
       "12  2019-08-06   35788\n",
       "13  2019-08-07   31096"
      ]
     },
     "execution_count": 19,
     "metadata": {},
     "output_type": "execute_result"
    }
   ],
   "source": [
    "logs.groupby('date', as_index=False).agg({'exp_id':'count'})"
   ]
  },
  {
   "cell_type": "code",
   "execution_count": 20,
   "metadata": {},
   "outputs": [
    {
     "data": {
      "image/png": "[encoded data removed]",
      "text/plain": [
       "<Figure size 936x360 with 1 Axes>"
      ]
     },
     "metadata": {
      "needs_background": "light"
     },
     "output_type": "display_data"
    }
   ],
   "source": [
    "plt.figure(figsize=(13, 5))\n",
    "plt.title('Количество событий в день')\n",
    "ax = sns.barplot(\n",
    "    data = logs.groupby('date', as_index=False).agg({'exp_id':'count'}), \n",
    "    x = 'date',\n",
    "    y = 'exp_id', \n",
    "    palette=\"viridis\"\n",
    ")\n",
    "ax.set_xlabel('Дата')\n",
    "ax.set_ylabel('Количество событий')\n",
    "plt.xticks(rotation = 90)\n",
    "sns.despine() "
   ]
  },
  {
   "cell_type": "markdown",
   "metadata": {},
   "source": [
    "Видим, что количество событий распределено крайне не равномерно: до 1 августа количество событий постепенно нарастает, но не доходит до 2000, а после держится выше 30 000. Чтобы лишние данные не искажали финальный результат, будем учитывать только данные с 1 августа."
   ]
  },
  {
   "cell_type": "code",
   "execution_count": 21,
   "metadata": {},
   "outputs": [
    {
     "data": {
      "text/html": [
       "<div>\n",
       "<style scoped>\n",
       "    .dataframe tbody tr th:only-of-type {\n",
       "        vertical-align: middle;\n",
       "    }\n",
       "\n",
       "    .dataframe tbody tr th {\n",
       "        vertical-align: top;\n",
       "    }\n",
       "\n",
       "    .dataframe thead th {\n",
       "        text-align: right;\n",
       "    }\n",
       "</style>\n",
       "<table border=\"1\" class=\"dataframe\">\n",
       "  <thead>\n",
       "    <tr style=\"text-align: right;\">\n",
       "      <th></th>\n",
       "      <th>event_name</th>\n",
       "      <th>device_id_hash</th>\n",
       "      <th>event_times_stamp</th>\n",
       "      <th>exp_id</th>\n",
       "      <th>date</th>\n",
       "    </tr>\n",
       "  </thead>\n",
       "  <tbody>\n",
       "    <tr>\n",
       "      <th>2826</th>\n",
       "      <td>tutorial</td>\n",
       "      <td>3737462046622621720</td>\n",
       "      <td>2019-08-01 00:07:28</td>\n",
       "      <td>246</td>\n",
       "      <td>2019-08-01</td>\n",
       "    </tr>\n",
       "    <tr>\n",
       "      <th>2827</th>\n",
       "      <td>main screen appear</td>\n",
       "      <td>3737462046622621720</td>\n",
       "      <td>2019-08-01 00:08:00</td>\n",
       "      <td>246</td>\n",
       "      <td>2019-08-01</td>\n",
       "    </tr>\n",
       "  </tbody>\n",
       "</table>\n",
       "</div>"
      ],
      "text/plain": [
       "              event_name       device_id_hash   event_times_stamp  exp_id  \\\n",
       "2826            tutorial  3737462046622621720 2019-08-01 00:07:28     246   \n",
       "2827  main screen appear  3737462046622621720 2019-08-01 00:08:00     246   \n",
       "\n",
       "            date  \n",
       "2826  2019-08-01  \n",
       "2827  2019-08-01  "
      ]
     },
     "execution_count": 21,
     "metadata": {},
     "output_type": "execute_result"
    }
   ],
   "source": [
    "logs = logs[logs['date']>=pd.to_datetime('2019-08-01')]\n",
    "logs.head(2)"
   ]
  },
  {
   "cell_type": "markdown",
   "metadata": {},
   "source": [
    "Проверим сколько пользователей и событий мы потеряли после сокращения периода:"
   ]
  },
  {
   "cell_type": "code",
   "execution_count": 22,
   "metadata": {},
   "outputs": [
    {
     "name": "stdout",
     "output_type": "stream",
     "text": [
      "Потеряли событий после отбрасывания старых дат: 2826\n",
      "Потеряли пользователей: 17\n"
     ]
    }
   ],
   "source": [
    "print('Потеряли событий после отбрасывания старых дат:', 243713 - len(logs))\n",
    "print('Потеряли пользователей:', 7551 - logs['device_id_hash'].nunique())"
   ]
  },
  {
   "cell_type": "markdown",
   "metadata": {},
   "source": [
    "Также проверим сколько пользователей осталось в каждой из групп:"
   ]
  },
  {
   "cell_type": "code",
   "execution_count": 23,
   "metadata": {},
   "outputs": [
    {
     "data": {
      "text/html": [
       "<div>\n",
       "<style scoped>\n",
       "    .dataframe tbody tr th:only-of-type {\n",
       "        vertical-align: middle;\n",
       "    }\n",
       "\n",
       "    .dataframe tbody tr th {\n",
       "        vertical-align: top;\n",
       "    }\n",
       "\n",
       "    .dataframe thead th {\n",
       "        text-align: right;\n",
       "    }\n",
       "</style>\n",
       "<table border=\"1\" class=\"dataframe\">\n",
       "  <thead>\n",
       "    <tr style=\"text-align: right;\">\n",
       "      <th></th>\n",
       "      <th>exp_id</th>\n",
       "      <th>user_amount</th>\n",
       "    </tr>\n",
       "  </thead>\n",
       "  <tbody>\n",
       "    <tr>\n",
       "      <th>0</th>\n",
       "      <td>246</td>\n",
       "      <td>2484</td>\n",
       "    </tr>\n",
       "    <tr>\n",
       "      <th>1</th>\n",
       "      <td>247</td>\n",
       "      <td>2513</td>\n",
       "    </tr>\n",
       "    <tr>\n",
       "      <th>2</th>\n",
       "      <td>248</td>\n",
       "      <td>2537</td>\n",
       "    </tr>\n",
       "  </tbody>\n",
       "</table>\n",
       "</div>"
      ],
      "text/plain": [
       "   exp_id  user_amount\n",
       "0     246         2484\n",
       "1     247         2513\n",
       "2     248         2537"
      ]
     },
     "execution_count": 23,
     "metadata": {},
     "output_type": "execute_result"
    }
   ],
   "source": [
    "groups = logs.groupby('exp_id', as_index=False).agg({'device_id_hash': 'nunique'})\n",
    "groups.columns = ['exp_id', 'user_amount']\n",
    "groups"
   ]
  },
  {
   "cell_type": "markdown",
   "metadata": {},
   "source": [
    "В каждой из групп осталось около 2 500 участников."
   ]
  },
  {
   "cell_type": "markdown",
   "metadata": {},
   "source": [
    "### Выводы:\n",
    " - В сырых данных было 243 713 события и 7 551 пользователей.\n",
    " - В среднем на человека приходится 20 событий(взяли медианное значение, т.к. есть пользователи с существенно завышенным количеством событий, искажающими среднее значение)\n",
    " - До 01 августа данные были не полными, поэтому на самом деле располагаем данными за период с 01 августа по 7 августа.\n",
    " - После устранения данных старше 01 августа общее число событий сократилось на 2826, а число пользователей на 17.\n",
    " - В каждой из экспериментальных групп около 2500 пользователей."
   ]
  },
  {
   "cell_type": "markdown",
   "metadata": {},
   "source": [
    "## Воронка событий"
   ]
  },
  {
   "cell_type": "markdown",
   "metadata": {},
   "source": [
    "### Распределение событий."
   ]
  },
  {
   "cell_type": "markdown",
   "metadata": {},
   "source": [
    "Посмотрим распределение событий по их тиам:"
   ]
  },
  {
   "cell_type": "code",
   "execution_count": 24,
   "metadata": {},
   "outputs": [
    {
     "data": {
      "text/html": [
       "<div>\n",
       "<style scoped>\n",
       "    .dataframe tbody tr th:only-of-type {\n",
       "        vertical-align: middle;\n",
       "    }\n",
       "\n",
       "    .dataframe tbody tr th {\n",
       "        vertical-align: top;\n",
       "    }\n",
       "\n",
       "    .dataframe thead th {\n",
       "        text-align: right;\n",
       "    }\n",
       "</style>\n",
       "<table border=\"1\" class=\"dataframe\">\n",
       "  <thead>\n",
       "    <tr style=\"text-align: right;\">\n",
       "      <th></th>\n",
       "      <th>event_name</th>\n",
       "      <th>amount</th>\n",
       "    </tr>\n",
       "  </thead>\n",
       "  <tbody>\n",
       "    <tr>\n",
       "      <th>1</th>\n",
       "      <td>main screen appear</td>\n",
       "      <td>117328</td>\n",
       "    </tr>\n",
       "    <tr>\n",
       "      <th>2</th>\n",
       "      <td>offers screen appear</td>\n",
       "      <td>46333</td>\n",
       "    </tr>\n",
       "    <tr>\n",
       "      <th>0</th>\n",
       "      <td>cart screen appear</td>\n",
       "      <td>42303</td>\n",
       "    </tr>\n",
       "    <tr>\n",
       "      <th>3</th>\n",
       "      <td>payment screen successful</td>\n",
       "      <td>33918</td>\n",
       "    </tr>\n",
       "    <tr>\n",
       "      <th>4</th>\n",
       "      <td>tutorial</td>\n",
       "      <td>1005</td>\n",
       "    </tr>\n",
       "  </tbody>\n",
       "</table>\n",
       "</div>"
      ],
      "text/plain": [
       "                  event_name  amount\n",
       "1         main screen appear  117328\n",
       "2       offers screen appear   46333\n",
       "0         cart screen appear   42303\n",
       "3  payment screen successful   33918\n",
       "4                   tutorial    1005"
      ]
     },
     "execution_count": 24,
     "metadata": {},
     "output_type": "execute_result"
    }
   ],
   "source": [
    "events = logs.groupby('event_name', as_index=False).agg({'exp_id':'count'})\\\n",
    ".sort_values(by = 'exp_id', ascending = False)\n",
    "events.columns = ['event_name', 'amount']\n",
    "events"
   ]
  },
  {
   "cell_type": "code",
   "execution_count": 25,
   "metadata": {},
   "outputs": [
    {
     "data": {
      "image/png": "[encoded data removed]",
      "text/plain": [
       "<Figure size 936x360 with 1 Axes>"
      ]
     },
     "metadata": {
      "needs_background": "light"
     },
     "output_type": "display_data"
    }
   ],
   "source": [
    "plt.figure(figsize=(13, 5))\n",
    "plt.title('Частота событий')\n",
    "ax = sns.barplot(\n",
    "    data = events, \n",
    "    x = 'amount',\n",
    "    y = 'event_name', \n",
    "    palette=\"viridis\"\n",
    ")\n",
    "ax.set_xlabel('Количество событий')\n",
    "ax.set_ylabel('Событие')\n",
    "sns.despine() "
   ]
  },
  {
   "cell_type": "markdown",
   "metadata": {},
   "source": [
    "Около половины всех событий занимает появление главного экрана, потом последовательно идут поялвение экрана предложения, появление экрана корзины и экран успешной оплаты. Меньше всего пользователи изучают инструкци, всего 1005 раз."
   ]
  },
  {
   "cell_type": "markdown",
   "metadata": {},
   "source": [
    "### Распределение пользователей по событиям"
   ]
  },
  {
   "cell_type": "code",
   "execution_count": 26,
   "metadata": {},
   "outputs": [
    {
     "data": {
      "text/html": [
       "<style  type=\"text/css\" >\n",
       "</style><table id=\"T_c3fd1_\" ><thead>    <tr>        <th class=\"blank level0\" ></th>        <th class=\"col_heading level0 col0\" >event_name</th>        <th class=\"col_heading level0 col1\" >user_amount</th>        <th class=\"col_heading level0 col2\" >user_share</th>    </tr></thead><tbody>\n",
       "                <tr>\n",
       "                        <th id=\"T_c3fd1_level0_row0\" class=\"row_heading level0 row0\" >1</th>\n",
       "                        <td id=\"T_c3fd1_row0_col0\" class=\"data row0 col0\" >main screen appear</td>\n",
       "                        <td id=\"T_c3fd1_row0_col1\" class=\"data row0 col1\" >7419</td>\n",
       "                        <td id=\"T_c3fd1_row0_col2\" class=\"data row0 col2\" >98.47%</td>\n",
       "            </tr>\n",
       "            <tr>\n",
       "                        <th id=\"T_c3fd1_level0_row1\" class=\"row_heading level0 row1\" >2</th>\n",
       "                        <td id=\"T_c3fd1_row1_col0\" class=\"data row1 col0\" >offers screen appear</td>\n",
       "                        <td id=\"T_c3fd1_row1_col1\" class=\"data row1 col1\" >4593</td>\n",
       "                        <td id=\"T_c3fd1_row1_col2\" class=\"data row1 col2\" >60.96%</td>\n",
       "            </tr>\n",
       "            <tr>\n",
       "                        <th id=\"T_c3fd1_level0_row2\" class=\"row_heading level0 row2\" >0</th>\n",
       "                        <td id=\"T_c3fd1_row2_col0\" class=\"data row2 col0\" >cart screen appear</td>\n",
       "                        <td id=\"T_c3fd1_row2_col1\" class=\"data row2 col1\" >3734</td>\n",
       "                        <td id=\"T_c3fd1_row2_col2\" class=\"data row2 col2\" >49.56%</td>\n",
       "            </tr>\n",
       "            <tr>\n",
       "                        <th id=\"T_c3fd1_level0_row3\" class=\"row_heading level0 row3\" >3</th>\n",
       "                        <td id=\"T_c3fd1_row3_col0\" class=\"data row3 col0\" >payment screen successful</td>\n",
       "                        <td id=\"T_c3fd1_row3_col1\" class=\"data row3 col1\" >3539</td>\n",
       "                        <td id=\"T_c3fd1_row3_col2\" class=\"data row3 col2\" >46.97%</td>\n",
       "            </tr>\n",
       "            <tr>\n",
       "                        <th id=\"T_c3fd1_level0_row4\" class=\"row_heading level0 row4\" >4</th>\n",
       "                        <td id=\"T_c3fd1_row4_col0\" class=\"data row4 col0\" >tutorial</td>\n",
       "                        <td id=\"T_c3fd1_row4_col1\" class=\"data row4 col1\" >840</td>\n",
       "                        <td id=\"T_c3fd1_row4_col2\" class=\"data row4 col2\" >11.15%</td>\n",
       "            </tr>\n",
       "    </tbody></table>"
      ],
      "text/plain": [
       "<pandas.io.formats.style.Styler at 0x7ff439593af0>"
      ]
     },
     "execution_count": 26,
     "metadata": {},
     "output_type": "execute_result"
    }
   ],
   "source": [
    "event_users = logs.groupby('event_name', as_index = False).agg({'device_id_hash':'nunique'})\\\n",
    ".sort_values(by = 'device_id_hash', ascending = False)\n",
    "event_users.columns = ['event_name', 'user_amount']\n",
    "event_users['user_share'] = event_users['user_amount']/logs['device_id_hash'].nunique()\n",
    "event_users.style.format({'user_share':'{:.2%}'})"
   ]
  },
  {
   "cell_type": "markdown",
   "metadata": {},
   "source": [
    "Не все пользователи увидели главный экран, который явлеяется первым этапом воронки, из этого следует отсутсвие необходимости прохождения всех этапов воронки пользователем."
   ]
  },
  {
   "cell_type": "code",
   "execution_count": 27,
   "metadata": {},
   "outputs": [
    {
     "data": {
      "image/png": "[encoded data removed]",
      "text/plain": [
       "<Figure size 936x360 with 1 Axes>"
      ]
     },
     "metadata": {
      "needs_background": "light"
     },
     "output_type": "display_data"
    }
   ],
   "source": [
    "plt.figure(figsize=(13, 5))\n",
    "plt.title('Доля пользователей, совершивших событие')\n",
    "ax = sns.barplot(\n",
    "    data = event_users, \n",
    "    x = 'user_share',\n",
    "    y = 'event_name', \n",
    "    palette=\"viridis\"\n",
    ")\n",
    "ax.set_xlabel('Доля пользователей')\n",
    "ax.set_ylabel('Событие')\n",
    "vals = ax.get_xticks()\n",
    "ax.set_xticklabels(['{:.0%}'.format(x) for x in vals])\n",
    "sns.despine()"
   ]
  },
  {
   "cell_type": "markdown",
   "metadata": {},
   "source": [
    "Главный экран просматривали 98% пользователей, экран с предложением просматривали 61%, зашли в корзину -  50%, удачно оплатили - 47%. Обучение проходили всего 11%."
   ]
  },
  {
   "cell_type": "markdown",
   "metadata": {},
   "source": [
    "### Воронка"
   ]
  },
  {
   "cell_type": "markdown",
   "metadata": {},
   "source": [
    "Вероятнее всего, пользовательлская воронка выглядит так:\n",
    "1. просмотр главной страниц \n",
    "2. Просмотр страницы с предложением\n",
    "3. Просмотр корзины\n",
    "4. Успешная оплата.\n",
    "\n",
    "Очевидно,  что пользователь может до этапа оплаты без прохождения обучения, это также подтверждается и долей пользователей, которые его проходили."
   ]
  },
  {
   "cell_type": "markdown",
   "metadata": {},
   "source": [
    "### Относительная и абсолютная воронки"
   ]
  },
  {
   "cell_type": "markdown",
   "metadata": {},
   "source": [
    "Построим абсолютную воронку, т.е. воронку в которой все доли расчитываются от изначального количества пользователей:"
   ]
  },
  {
   "cell_type": "code",
   "execution_count": 28,
   "metadata": {},
   "outputs": [
    {
     "data": {
      "text/html": [
       "<style  type=\"text/css\" >\n",
       "</style><table id=\"T_5b66a_\" ><thead>    <tr>        <th class=\"blank level0\" ></th>        <th class=\"col_heading level0 col0\" >event_name</th>        <th class=\"col_heading level0 col1\" >user_amount</th>        <th class=\"col_heading level0 col2\" >user_share</th>    </tr></thead><tbody>\n",
       "                <tr>\n",
       "                        <th id=\"T_5b66a_level0_row0\" class=\"row_heading level0 row0\" >0</th>\n",
       "                        <td id=\"T_5b66a_row0_col0\" class=\"data row0 col0\" >main screen appear</td>\n",
       "                        <td id=\"T_5b66a_row0_col1\" class=\"data row0 col1\" >7419</td>\n",
       "                        <td id=\"T_5b66a_row0_col2\" class=\"data row0 col2\" >98.47%</td>\n",
       "            </tr>\n",
       "            <tr>\n",
       "                        <th id=\"T_5b66a_level0_row1\" class=\"row_heading level0 row1\" >1</th>\n",
       "                        <td id=\"T_5b66a_row1_col0\" class=\"data row1 col0\" >offers screen appear</td>\n",
       "                        <td id=\"T_5b66a_row1_col1\" class=\"data row1 col1\" >4593</td>\n",
       "                        <td id=\"T_5b66a_row1_col2\" class=\"data row1 col2\" >60.96%</td>\n",
       "            </tr>\n",
       "            <tr>\n",
       "                        <th id=\"T_5b66a_level0_row2\" class=\"row_heading level0 row2\" >2</th>\n",
       "                        <td id=\"T_5b66a_row2_col0\" class=\"data row2 col0\" >cart screen appear</td>\n",
       "                        <td id=\"T_5b66a_row2_col1\" class=\"data row2 col1\" >3734</td>\n",
       "                        <td id=\"T_5b66a_row2_col2\" class=\"data row2 col2\" >49.56%</td>\n",
       "            </tr>\n",
       "            <tr>\n",
       "                        <th id=\"T_5b66a_level0_row3\" class=\"row_heading level0 row3\" >3</th>\n",
       "                        <td id=\"T_5b66a_row3_col0\" class=\"data row3 col0\" >payment screen successful</td>\n",
       "                        <td id=\"T_5b66a_row3_col1\" class=\"data row3 col1\" >3539</td>\n",
       "                        <td id=\"T_5b66a_row3_col2\" class=\"data row3 col2\" >46.97%</td>\n",
       "            </tr>\n",
       "    </tbody></table>"
      ],
      "text/plain": [
       "<pandas.io.formats.style.Styler at 0x7ff44186d760>"
      ]
     },
     "execution_count": 28,
     "metadata": {},
     "output_type": "execute_result"
    }
   ],
   "source": [
    "abs_funnel = event_users[event_users['event_name'] != 'tutorial']\n",
    "abs_funnel.reset_index(drop=True).style.format({'user_share':'{:.2%}'})"
   ]
  },
  {
   "cell_type": "code",
   "execution_count": 29,
   "metadata": {},
   "outputs": [
    {
     "data": {
      "image/png": "[encoded data removed]",
      "text/plain": [
       "<Figure size 936x360 with 1 Axes>"
      ]
     },
     "metadata": {
      "needs_background": "light"
     },
     "output_type": "display_data"
    }
   ],
   "source": [
    "plt.figure(figsize=(13, 5))\n",
    "plt.title('Абсолютная воронка')\n",
    "ax = sns.barplot(\n",
    "    data = abs_funnel, \n",
    "    x = 'user_share',\n",
    "    y = 'event_name', \n",
    "    palette=\"viridis\"\n",
    ")\n",
    "ax.set_xlabel('Доля пользователей')\n",
    "ax.set_ylabel('Событие')\n",
    "vals = ax.get_xticks()\n",
    "ax.set_xticklabels(['{:.0%}'.format(x) for x in vals])\n",
    "sns.despine()"
   ]
  },
  {
   "cell_type": "markdown",
   "metadata": {},
   "source": [
    "Получившаяся воронка воспроизводит диаграму пользователей выше, но без шага tutorial. Тепрь построим относительную воронку:"
   ]
  },
  {
   "cell_type": "code",
   "execution_count": 30,
   "metadata": {},
   "outputs": [
    {
     "data": {
      "text/html": [
       "<style  type=\"text/css\" >\n",
       "</style><table id=\"T_9af2f_\" ><thead>    <tr>        <th class=\"blank level0\" ></th>        <th class=\"col_heading level0 col0\" >event_name</th>        <th class=\"col_heading level0 col1\" >user_amount</th>        <th class=\"col_heading level0 col2\" >user_share</th>    </tr></thead><tbody>\n",
       "                <tr>\n",
       "                        <th id=\"T_9af2f_level0_row0\" class=\"row_heading level0 row0\" >0</th>\n",
       "                        <td id=\"T_9af2f_row0_col0\" class=\"data row0 col0\" >main screen appear</td>\n",
       "                        <td id=\"T_9af2f_row0_col1\" class=\"data row0 col1\" >7419</td>\n",
       "                        <td id=\"T_9af2f_row0_col2\" class=\"data row0 col2\" >98.47%</td>\n",
       "            </tr>\n",
       "            <tr>\n",
       "                        <th id=\"T_9af2f_level0_row1\" class=\"row_heading level0 row1\" >1</th>\n",
       "                        <td id=\"T_9af2f_row1_col0\" class=\"data row1 col0\" >offers screen appear</td>\n",
       "                        <td id=\"T_9af2f_row1_col1\" class=\"data row1 col1\" >4593</td>\n",
       "                        <td id=\"T_9af2f_row1_col2\" class=\"data row1 col2\" >61.91%</td>\n",
       "            </tr>\n",
       "            <tr>\n",
       "                        <th id=\"T_9af2f_level0_row2\" class=\"row_heading level0 row2\" >2</th>\n",
       "                        <td id=\"T_9af2f_row2_col0\" class=\"data row2 col0\" >cart screen appear</td>\n",
       "                        <td id=\"T_9af2f_row2_col1\" class=\"data row2 col1\" >3734</td>\n",
       "                        <td id=\"T_9af2f_row2_col2\" class=\"data row2 col2\" >81.30%</td>\n",
       "            </tr>\n",
       "            <tr>\n",
       "                        <th id=\"T_9af2f_level0_row3\" class=\"row_heading level0 row3\" >3</th>\n",
       "                        <td id=\"T_9af2f_row3_col0\" class=\"data row3 col0\" >payment screen successful</td>\n",
       "                        <td id=\"T_9af2f_row3_col1\" class=\"data row3 col1\" >3539</td>\n",
       "                        <td id=\"T_9af2f_row3_col2\" class=\"data row3 col2\" >94.78%</td>\n",
       "            </tr>\n",
       "    </tbody></table>"
      ],
      "text/plain": [
       "<pandas.io.formats.style.Styler at 0x7ff4395c6730>"
      ]
     },
     "execution_count": 30,
     "metadata": {},
     "output_type": "execute_result"
    }
   ],
   "source": [
    "rel_funnel = abs_funnel\n",
    "rel_funnel = rel_funnel.reset_index(drop=True)\n",
    "\n",
    "# Создаем столбец с количеством пользователей соответствующим предыдущему этапу\n",
    "# К Series с общим числом пользователей добавляем срез из abs_funnel\n",
    "rel_funnel['prev_amount'] = (pd.Series(logs['device_id_hash'].nunique())\n",
    "                            .append(abs_funnel.iloc[0:-1, 1]).reset_index(drop=True))\n",
    "\n",
    "rel_funnel['user_share'] = rel_funnel['user_amount']/rel_funnel['prev_amount']\n",
    "rel_funnel = rel_funnel.drop('prev_amount', axis = 1)\n",
    "rel_funnel.style.format({'user_share':'{:.2%}'})"
   ]
  },
  {
   "cell_type": "code",
   "execution_count": 31,
   "metadata": {},
   "outputs": [
    {
     "data": {
      "image/png": "[encoded data removed]",
      "text/plain": [
       "<Figure size 936x360 with 1 Axes>"
      ]
     },
     "metadata": {
      "needs_background": "light"
     },
     "output_type": "display_data"
    }
   ],
   "source": [
    "plt.figure(figsize=(13, 5))\n",
    "plt.title('Относительная воронка')\n",
    "ax = sns.barplot(\n",
    "    data = rel_funnel, \n",
    "    x = 'user_share',\n",
    "    y = 'event_name', \n",
    "    palette=\"viridis\"\n",
    ")\n",
    "ax.set_xlabel('Доля пользователей')\n",
    "ax.set_ylabel('Событие')\n",
    "vals = ax.get_xticks()\n",
    "ax.set_xticklabels(['{:.0%}'.format(x) for x in vals])\n",
    "sns.despine()"
   ]
  },
  {
   "cell_type": "markdown",
   "metadata": {},
   "source": [
    "Больше всего пользователей теряется на 2-ом шаге(появлении экрана предложения), всего 62% пользователей, увидевших главный экран доходят до следующего этапа.\n",
    "\n",
    "По абсолютной воронке видим, что от первого до последнего шагов проходят 46.97% от всех пользователей."
   ]
  },
  {
   "cell_type": "markdown",
   "metadata": {},
   "source": [
    "### Выводы:\n",
    " - Около половины всех событий занимает появление главного экрана, потом последовательно идут появление экрана предложения, появление экрана корзины и экран успешной оплаты. Меньше всего пользователи изучают инструкци, всего 1005 раз.\n",
    " - Предполагаемя воронка событий от посещения сайта до покупки:\n",
    "    1. просмотр главной страниц \n",
    "    2. Просмотр страницы с предложением\n",
    "    3. Просмотр корзины\n",
    "    4. Успешная оплата.\n",
    " - Около 38% пользователей отпадает при переходе к 2-ому шагу.\n",
    " - Этап успешной оплаты проходят 46,97% от всех пользователей."
   ]
  },
  {
   "cell_type": "markdown",
   "metadata": {},
   "source": [
    "## Результаты эксперимента"
   ]
  },
  {
   "cell_type": "markdown",
   "metadata": {},
   "source": [
    "### Группы"
   ]
  },
  {
   "cell_type": "code",
   "execution_count": 32,
   "metadata": {},
   "outputs": [
    {
     "data": {
      "text/html": [
       "<div>\n",
       "<style scoped>\n",
       "    .dataframe tbody tr th:only-of-type {\n",
       "        vertical-align: middle;\n",
       "    }\n",
       "\n",
       "    .dataframe tbody tr th {\n",
       "        vertical-align: top;\n",
       "    }\n",
       "\n",
       "    .dataframe thead th {\n",
       "        text-align: right;\n",
       "    }\n",
       "</style>\n",
       "<table border=\"1\" class=\"dataframe\">\n",
       "  <thead>\n",
       "    <tr style=\"text-align: right;\">\n",
       "      <th></th>\n",
       "      <th>exp_id</th>\n",
       "      <th>user_amount</th>\n",
       "    </tr>\n",
       "  </thead>\n",
       "  <tbody>\n",
       "    <tr>\n",
       "      <th>0</th>\n",
       "      <td>246</td>\n",
       "      <td>2484</td>\n",
       "    </tr>\n",
       "    <tr>\n",
       "      <th>1</th>\n",
       "      <td>247</td>\n",
       "      <td>2513</td>\n",
       "    </tr>\n",
       "    <tr>\n",
       "      <th>2</th>\n",
       "      <td>248</td>\n",
       "      <td>2537</td>\n",
       "    </tr>\n",
       "  </tbody>\n",
       "</table>\n",
       "</div>"
      ],
      "text/plain": [
       "   exp_id  user_amount\n",
       "0     246         2484\n",
       "1     247         2513\n",
       "2     248         2537"
      ]
     },
     "execution_count": 32,
     "metadata": {},
     "output_type": "execute_result"
    }
   ],
   "source": [
    "groups = logs.groupby('exp_id', as_index=False).agg({'device_id_hash': 'nunique'})\n",
    "groups.columns = ['exp_id', 'user_amount']\n",
    "groups"
   ]
  },
  {
   "cell_type": "markdown",
   "metadata": {},
   "source": [
    "В каждой из групп около 2500 человек, поэтому дальнейшее сравнение не будет искажено численностью групп."
   ]
  },
  {
   "cell_type": "markdown",
   "metadata": {},
   "source": [
    "### A/A тесты"
   ]
  },
  {
   "cell_type": "markdown",
   "metadata": {},
   "source": [
    "Оценим разницу количества участников:"
   ]
  },
  {
   "cell_type": "code",
   "execution_count": 33,
   "metadata": {},
   "outputs": [
    {
     "name": "stdout",
     "output_type": "stream",
     "text": [
      "1.15%\n"
     ]
    }
   ],
   "source": [
    "print('{:.2%}'.format(abs(groups['user_amount'][0]/groups['user_amount'][1] - 1)))"
   ]
  },
  {
   "cell_type": "markdown",
   "metadata": {},
   "source": [
    "Численность контрольных групп приблизительно расходится на 1,15%, что не критично."
   ]
  },
  {
   "cell_type": "markdown",
   "metadata": {},
   "source": [
    "Создадим общую таблицу, в которой будут демонсрироваться доли пользователей совершивших действие в разбивке по группам и событиям:"
   ]
  },
  {
   "cell_type": "code",
   "execution_count": 34,
   "metadata": {},
   "outputs": [
    {
     "data": {
      "text/html": [
       "<style  type=\"text/css\" >\n",
       "</style><table id=\"T_fc959_\" ><thead>    <tr>        <th class=\"blank level0\" ></th>        <th class=\"col_heading level0 col0\" >steps</th>        <th class=\"col_heading level0 col1\" >246</th>        <th class=\"col_heading level0 col2\" >246_share</th>        <th class=\"col_heading level0 col3\" >247</th>        <th class=\"col_heading level0 col4\" >247_share</th>        <th class=\"col_heading level0 col5\" >248</th>        <th class=\"col_heading level0 col6\" >248_share</th>    </tr></thead><tbody>\n",
       "                <tr>\n",
       "                        <th id=\"T_fc959_level0_row0\" class=\"row_heading level0 row0\" >0</th>\n",
       "                        <td id=\"T_fc959_row0_col0\" class=\"data row0 col0\" >main screen appear</td>\n",
       "                        <td id=\"T_fc959_row0_col1\" class=\"data row0 col1\" >2450</td>\n",
       "                        <td id=\"T_fc959_row0_col2\" class=\"data row0 col2\" >98.63%</td>\n",
       "                        <td id=\"T_fc959_row0_col3\" class=\"data row0 col3\" >2476</td>\n",
       "                        <td id=\"T_fc959_row0_col4\" class=\"data row0 col4\" >98.53%</td>\n",
       "                        <td id=\"T_fc959_row0_col5\" class=\"data row0 col5\" >2493</td>\n",
       "                        <td id=\"T_fc959_row0_col6\" class=\"data row0 col6\" >98.27%</td>\n",
       "            </tr>\n",
       "            <tr>\n",
       "                        <th id=\"T_fc959_level0_row1\" class=\"row_heading level0 row1\" >1</th>\n",
       "                        <td id=\"T_fc959_row1_col0\" class=\"data row1 col0\" >offers screen appear</td>\n",
       "                        <td id=\"T_fc959_row1_col1\" class=\"data row1 col1\" >1542</td>\n",
       "                        <td id=\"T_fc959_row1_col2\" class=\"data row1 col2\" >62.08%</td>\n",
       "                        <td id=\"T_fc959_row1_col3\" class=\"data row1 col3\" >1520</td>\n",
       "                        <td id=\"T_fc959_row1_col4\" class=\"data row1 col4\" >60.49%</td>\n",
       "                        <td id=\"T_fc959_row1_col5\" class=\"data row1 col5\" >1531</td>\n",
       "                        <td id=\"T_fc959_row1_col6\" class=\"data row1 col6\" >60.35%</td>\n",
       "            </tr>\n",
       "            <tr>\n",
       "                        <th id=\"T_fc959_level0_row2\" class=\"row_heading level0 row2\" >2</th>\n",
       "                        <td id=\"T_fc959_row2_col0\" class=\"data row2 col0\" >cart screen appear</td>\n",
       "                        <td id=\"T_fc959_row2_col1\" class=\"data row2 col1\" >1266</td>\n",
       "                        <td id=\"T_fc959_row2_col2\" class=\"data row2 col2\" >50.97%</td>\n",
       "                        <td id=\"T_fc959_row2_col3\" class=\"data row2 col3\" >1238</td>\n",
       "                        <td id=\"T_fc959_row2_col4\" class=\"data row2 col4\" >49.26%</td>\n",
       "                        <td id=\"T_fc959_row2_col5\" class=\"data row2 col5\" >1230</td>\n",
       "                        <td id=\"T_fc959_row2_col6\" class=\"data row2 col6\" >48.48%</td>\n",
       "            </tr>\n",
       "            <tr>\n",
       "                        <th id=\"T_fc959_level0_row3\" class=\"row_heading level0 row3\" >3</th>\n",
       "                        <td id=\"T_fc959_row3_col0\" class=\"data row3 col0\" >payment screen successful</td>\n",
       "                        <td id=\"T_fc959_row3_col1\" class=\"data row3 col1\" >1200</td>\n",
       "                        <td id=\"T_fc959_row3_col2\" class=\"data row3 col2\" >48.31%</td>\n",
       "                        <td id=\"T_fc959_row3_col3\" class=\"data row3 col3\" >1158</td>\n",
       "                        <td id=\"T_fc959_row3_col4\" class=\"data row3 col4\" >46.08%</td>\n",
       "                        <td id=\"T_fc959_row3_col5\" class=\"data row3 col5\" >1181</td>\n",
       "                        <td id=\"T_fc959_row3_col6\" class=\"data row3 col6\" >46.55%</td>\n",
       "            </tr>\n",
       "    </tbody></table>"
      ],
      "text/plain": [
       "<pandas.io.formats.style.Styler at 0x7ff439262bb0>"
      ]
     },
     "execution_count": 34,
     "metadata": {},
     "output_type": "execute_result"
    }
   ],
   "source": [
    "funnel_steps = ['main screen appear', 'offers screen appear', 'cart screen appear', 'payment screen successful']\n",
    "\n",
    "#Создаем df, к которому будем в дальнейшем прикреплять данные\n",
    "funnels_by_groups = pd.DataFrame(\n",
    "    {\n",
    "        'steps':funnel_steps\n",
    "    }\n",
    ")\n",
    "\n",
    "\n",
    "# Циклом для каждой из групп создадим df с абсолютным числом пользователей и долей пользователей\n",
    "# в разбивке по этапам воронки\n",
    "for group in [246, 247, 248]:\n",
    "    df = pd.DataFrame(\n",
    "            {\n",
    "                'steps' : funnel_steps,\n",
    "                group : [\n",
    "                    logs[(logs['exp_id'] == group) & (logs['event_name'] == i)]['device_id_hash']\n",
    "                    .nunique() for i in funnel_steps\n",
    "                ]\n",
    "            }\n",
    "        )\n",
    "    df[str(group)+'_share'] = df[group]/groups[groups['exp_id'] == group]['user_amount'][group - 246]\n",
    "    \n",
    "    # Добавляем к созданному в начале funnelfs_by_groups\n",
    "    funnels_by_groups = funnels_by_groups.merge(df, on='steps')\n",
    "    \n",
    "funnels_by_groups.style.format(\n",
    "    {\n",
    "        '246_share':'{:.2%}',\n",
    "        '247_share':'{:.2%}',\n",
    "        '248_share':'{:.2%}'        \n",
    "    }\n",
    ")"
   ]
  },
  {
   "cell_type": "markdown",
   "metadata": {},
   "source": [
    "Детальней рассмотрим разницу между долями контрольных групп:"
   ]
  },
  {
   "cell_type": "code",
   "execution_count": 35,
   "metadata": {},
   "outputs": [
    {
     "data": {
      "text/html": [
       "<style  type=\"text/css\" >\n",
       "</style><table id=\"T_a8cd4_\" ><thead>    <tr>        <th class=\"blank level0\" ></th>        <th class=\"col_heading level0 col0\" >steps</th>        <th class=\"col_heading level0 col1\" >246_247_diff</th>    </tr></thead><tbody>\n",
       "                <tr>\n",
       "                        <th id=\"T_a8cd4_level0_row0\" class=\"row_heading level0 row0\" >0</th>\n",
       "                        <td id=\"T_a8cd4_row0_col0\" class=\"data row0 col0\" >main screen appear</td>\n",
       "                        <td id=\"T_a8cd4_row0_col1\" class=\"data row0 col1\" >0.10%</td>\n",
       "            </tr>\n",
       "            <tr>\n",
       "                        <th id=\"T_a8cd4_level0_row1\" class=\"row_heading level0 row1\" >1</th>\n",
       "                        <td id=\"T_a8cd4_row1_col0\" class=\"data row1 col0\" >offers screen appear</td>\n",
       "                        <td id=\"T_a8cd4_row1_col1\" class=\"data row1 col1\" >1.59%</td>\n",
       "            </tr>\n",
       "            <tr>\n",
       "                        <th id=\"T_a8cd4_level0_row2\" class=\"row_heading level0 row2\" >2</th>\n",
       "                        <td id=\"T_a8cd4_row2_col0\" class=\"data row2 col0\" >cart screen appear</td>\n",
       "                        <td id=\"T_a8cd4_row2_col1\" class=\"data row2 col1\" >1.70%</td>\n",
       "            </tr>\n",
       "            <tr>\n",
       "                        <th id=\"T_a8cd4_level0_row3\" class=\"row_heading level0 row3\" >3</th>\n",
       "                        <td id=\"T_a8cd4_row3_col0\" class=\"data row3 col0\" >payment screen successful</td>\n",
       "                        <td id=\"T_a8cd4_row3_col1\" class=\"data row3 col1\" >2.23%</td>\n",
       "            </tr>\n",
       "    </tbody></table>"
      ],
      "text/plain": [
       "<pandas.io.formats.style.Styler at 0x7ff439262ee0>"
      ]
     },
     "execution_count": 35,
     "metadata": {},
     "output_type": "execute_result"
    }
   ],
   "source": [
    "funnels_by_groups['246_247_diff'] = abs(funnels_by_groups['246_share'] - funnels_by_groups['247_share'])\n",
    "funnels_by_groups[['steps', '246_247_diff']].style.format({'246_247_diff':'{:.2%}'})"
   ]
  },
  {
   "cell_type": "markdown",
   "metadata": {},
   "source": [
    "Видим, что при проверке разниц A/A есть шаги, в которых разница существенно выше 1%. Проверим имеет ли эта разница статистическую значимость."
   ]
  },
  {
   "cell_type": "markdown",
   "metadata": {},
   "source": [
    "<b>Выбор критерия:</b> Для проверки будем использовать Z-тест, т.к. в расчетах учитывается только единоразовое выполнение действие каждым пользователем, и следовательно мы можем считать события независимыми.\n",
    "\n",
    "<b>Выбор уровня значимости:</b> общий уровень значимости возьмем 0.1, но сравнение будет множественным, поэтому для каждого отдельного теста необходимо взять поправку. Возьмем поправку Бонферрони: ноебходимо разделить общий уровень значимости на 16(т.к. отдельных тестов будет 16.)"
   ]
  },
  {
   "cell_type": "code",
   "execution_count": 36,
   "metadata": {},
   "outputs": [],
   "source": [
    "def z_test(group_A, group_B, step, logs, alpha):   \n",
    "    \n",
    "    #Рсчет Z-критерия и p-value\n",
    "    success = [logs[(logs['exp_id'].isin(group_A)) & (logs['event_name'] == step)]['device_id_hash'].nunique(),\n",
    "              logs[(logs['exp_id'] == group_B) & (logs['event_name'] == step)]['device_id_hash'].nunique()]\n",
    "    trials = [logs[(logs['exp_id'].isin(group_A))]['device_id_hash'].nunique(),\n",
    "             logs[(logs['exp_id'] == group_B)]['device_id_hash'].nunique()]\n",
    "\n",
    "    p_combined = sum(success)/sum(trials)\n",
    "    p_diff = success[0]/trials[0] - success[1]/trials[1]\n",
    "\n",
    "    z = p_diff/mth.sqrt(p_combined * (1 - p_combined) * (1/trials[0] + 1/trials[1]))\n",
    "\n",
    "    distr = st.norm(0, 1)\n",
    "\n",
    "    p_value = (1 - distr.cdf(abs(z))) * 2\n",
    "    \n",
    "    #Шаг и таблица\n",
    "    print(step)\n",
    "    df = pd.DataFrame(\n",
    "        {\n",
    "            'step':[step],\n",
    "            '_'.join(map(str, group_A)): success[0],\n",
    "            str(group_B): success[1],\n",
    "            '_'.join(map(str, group_A)) + '_share': success[0]/trials[0],\n",
    "            str(group_B) + '_share': success[1]/trials[1]\n",
    "        }\n",
    "    )\n",
    "    display(\n",
    "        df.style.format(\n",
    "            {\n",
    "                '_'.join(map(str, group_A)) + '_share' : '{:.2%}',\n",
    "                str(group_B) + '_share' : '{:.2%}'\n",
    "            }\n",
    "        )\n",
    "    )\n",
    "    \n",
    "        #Вывод гипотез\n",
    "    print('H0: между долями совершивших собыитие', step, 'в группах', \n",
    "          '_'.join(map(str, group_A)),'и', str(group_B), 'разницы нет' )\n",
    "    print('H1: между долями совершивших собыитие', step, 'в группах',\n",
    "          '_'.join(map(str, group_A)),'и', str(group_B), 'есть значимая разница')\n",
    "    print('Уровень значимости:', alpha)\n",
    "    \n",
    "        #Выводы\n",
    "    print('p-значение: {:.2f}'.format(p_value))\n",
    "    if p_value <= alpha:\n",
    "        print('Отвергаем нулевую гипотезу: между долями есть значимая разница.')\n",
    "        if p_diff > 0:\n",
    "            print('Доля совершивших событие', step, 'в группе', '_'.join(map(str, group_A)), 'выше')\n",
    "        else:\n",
    "            print('Доля совершивших событие', step, 'в группе', group_B, 'выше')\n",
    "    else:\n",
    "        print('Мы не можем отвергнуть нулевую гипотезу')\n",
    "    print()\n",
    "    return p_value"
   ]
  },
  {
   "cell_type": "code",
   "execution_count": 37,
   "metadata": {},
   "outputs": [
    {
     "name": "stdout",
     "output_type": "stream",
     "text": [
      "main screen appear\n"
     ]
    },
    {
     "data": {
      "text/html": [
       "<style  type=\"text/css\" >\n",
       "</style><table id=\"T_13c14_\" ><thead>    <tr>        <th class=\"blank level0\" ></th>        <th class=\"col_heading level0 col0\" >step</th>        <th class=\"col_heading level0 col1\" >246</th>        <th class=\"col_heading level0 col2\" >247</th>        <th class=\"col_heading level0 col3\" >246_share</th>        <th class=\"col_heading level0 col4\" >247_share</th>    </tr></thead><tbody>\n",
       "                <tr>\n",
       "                        <th id=\"T_13c14_level0_row0\" class=\"row_heading level0 row0\" >0</th>\n",
       "                        <td id=\"T_13c14_row0_col0\" class=\"data row0 col0\" >main screen appear</td>\n",
       "                        <td id=\"T_13c14_row0_col1\" class=\"data row0 col1\" >2450</td>\n",
       "                        <td id=\"T_13c14_row0_col2\" class=\"data row0 col2\" >2476</td>\n",
       "                        <td id=\"T_13c14_row0_col3\" class=\"data row0 col3\" >98.63%</td>\n",
       "                        <td id=\"T_13c14_row0_col4\" class=\"data row0 col4\" >98.53%</td>\n",
       "            </tr>\n",
       "    </tbody></table>"
      ],
      "text/plain": [
       "<pandas.io.formats.style.Styler at 0x7ff4392ebaf0>"
      ]
     },
     "metadata": {},
     "output_type": "display_data"
    },
    {
     "name": "stdout",
     "output_type": "stream",
     "text": [
      "H0: между долями совершивших собыитие main screen appear в группах 246 и 247 разницы нет\n",
      "H1: между долями совершивших собыитие main screen appear в группах 246 и 247 есть значимая разница\n",
      "Уровень значимости: 0.00625\n",
      "p-значение: 0.76\n",
      "Мы не можем отвергнуть нулевую гипотезу\n",
      "\n",
      "offers screen appear\n"
     ]
    },
    {
     "data": {
      "text/html": [
       "<style  type=\"text/css\" >\n",
       "</style><table id=\"T_bd628_\" ><thead>    <tr>        <th class=\"blank level0\" ></th>        <th class=\"col_heading level0 col0\" >step</th>        <th class=\"col_heading level0 col1\" >246</th>        <th class=\"col_heading level0 col2\" >247</th>        <th class=\"col_heading level0 col3\" >246_share</th>        <th class=\"col_heading level0 col4\" >247_share</th>    </tr></thead><tbody>\n",
       "                <tr>\n",
       "                        <th id=\"T_bd628_level0_row0\" class=\"row_heading level0 row0\" >0</th>\n",
       "                        <td id=\"T_bd628_row0_col0\" class=\"data row0 col0\" >offers screen appear</td>\n",
       "                        <td id=\"T_bd628_row0_col1\" class=\"data row0 col1\" >1542</td>\n",
       "                        <td id=\"T_bd628_row0_col2\" class=\"data row0 col2\" >1520</td>\n",
       "                        <td id=\"T_bd628_row0_col3\" class=\"data row0 col3\" >62.08%</td>\n",
       "                        <td id=\"T_bd628_row0_col4\" class=\"data row0 col4\" >60.49%</td>\n",
       "            </tr>\n",
       "    </tbody></table>"
      ],
      "text/plain": [
       "<pandas.io.formats.style.Styler at 0x7ff439202580>"
      ]
     },
     "metadata": {},
     "output_type": "display_data"
    },
    {
     "name": "stdout",
     "output_type": "stream",
     "text": [
      "H0: между долями совершивших собыитие offers screen appear в группах 246 и 247 разницы нет\n",
      "H1: между долями совершивших собыитие offers screen appear в группах 246 и 247 есть значимая разница\n",
      "Уровень значимости: 0.00625\n",
      "p-значение: 0.25\n",
      "Мы не можем отвергнуть нулевую гипотезу\n",
      "\n",
      "cart screen appear\n"
     ]
    },
    {
     "data": {
      "text/html": [
       "<style  type=\"text/css\" >\n",
       "</style><table id=\"T_b6e89_\" ><thead>    <tr>        <th class=\"blank level0\" ></th>        <th class=\"col_heading level0 col0\" >step</th>        <th class=\"col_heading level0 col1\" >246</th>        <th class=\"col_heading level0 col2\" >247</th>        <th class=\"col_heading level0 col3\" >246_share</th>        <th class=\"col_heading level0 col4\" >247_share</th>    </tr></thead><tbody>\n",
       "                <tr>\n",
       "                        <th id=\"T_b6e89_level0_row0\" class=\"row_heading level0 row0\" >0</th>\n",
       "                        <td id=\"T_b6e89_row0_col0\" class=\"data row0 col0\" >cart screen appear</td>\n",
       "                        <td id=\"T_b6e89_row0_col1\" class=\"data row0 col1\" >1266</td>\n",
       "                        <td id=\"T_b6e89_row0_col2\" class=\"data row0 col2\" >1238</td>\n",
       "                        <td id=\"T_b6e89_row0_col3\" class=\"data row0 col3\" >50.97%</td>\n",
       "                        <td id=\"T_b6e89_row0_col4\" class=\"data row0 col4\" >49.26%</td>\n",
       "            </tr>\n",
       "    </tbody></table>"
      ],
      "text/plain": [
       "<pandas.io.formats.style.Styler at 0x7ff439255a00>"
      ]
     },
     "metadata": {},
     "output_type": "display_data"
    },
    {
     "name": "stdout",
     "output_type": "stream",
     "text": [
      "H0: между долями совершивших собыитие cart screen appear в группах 246 и 247 разницы нет\n",
      "H1: между долями совершивших собыитие cart screen appear в группах 246 и 247 есть значимая разница\n",
      "Уровень значимости: 0.00625\n",
      "p-значение: 0.23\n",
      "Мы не можем отвергнуть нулевую гипотезу\n",
      "\n",
      "payment screen successful\n"
     ]
    },
    {
     "data": {
      "text/html": [
       "<style  type=\"text/css\" >\n",
       "</style><table id=\"T_7218a_\" ><thead>    <tr>        <th class=\"blank level0\" ></th>        <th class=\"col_heading level0 col0\" >step</th>        <th class=\"col_heading level0 col1\" >246</th>        <th class=\"col_heading level0 col2\" >247</th>        <th class=\"col_heading level0 col3\" >246_share</th>        <th class=\"col_heading level0 col4\" >247_share</th>    </tr></thead><tbody>\n",
       "                <tr>\n",
       "                        <th id=\"T_7218a_level0_row0\" class=\"row_heading level0 row0\" >0</th>\n",
       "                        <td id=\"T_7218a_row0_col0\" class=\"data row0 col0\" >payment screen successful</td>\n",
       "                        <td id=\"T_7218a_row0_col1\" class=\"data row0 col1\" >1200</td>\n",
       "                        <td id=\"T_7218a_row0_col2\" class=\"data row0 col2\" >1158</td>\n",
       "                        <td id=\"T_7218a_row0_col3\" class=\"data row0 col3\" >48.31%</td>\n",
       "                        <td id=\"T_7218a_row0_col4\" class=\"data row0 col4\" >46.08%</td>\n",
       "            </tr>\n",
       "    </tbody></table>"
      ],
      "text/plain": [
       "<pandas.io.formats.style.Styler at 0x7ff439202130>"
      ]
     },
     "metadata": {},
     "output_type": "display_data"
    },
    {
     "name": "stdout",
     "output_type": "stream",
     "text": [
      "H0: между долями совершивших собыитие payment screen successful в группах 246 и 247 разницы нет\n",
      "H1: между долями совершивших собыитие payment screen successful в группах 246 и 247 есть значимая разница\n",
      "Уровень значимости: 0.00625\n",
      "p-значение: 0.11\n",
      "Мы не можем отвергнуть нулевую гипотезу\n",
      "\n"
     ]
    }
   ],
   "source": [
    "for step in funnel_steps:\n",
    "    z_test([246], 247, step, logs, 0.1/16)"
   ]
  },
  {
   "cell_type": "markdown",
   "metadata": {},
   "source": [
    "Ни в одном из событий значимых различий в доле совершивших их между группам 246 и 247 нет, что говорит в пользу корректности собранных данных.\n",
    "\n",
    "<b>Вывод:</b> \n",
    " - Численность групп различается не существенно;\n",
    " - Расхождение долей на разных шагах доходит до 2,23%, что может быть существенным, но тест показывает отстуствие статистически значимого расхождения на всех шагах.\n",
    "\n",
    "Исходя из этих выводов, будем считать, что данные собраны корректно."
   ]
  },
  {
   "cell_type": "markdown",
   "metadata": {},
   "source": [
    "### A1/B тесты"
   ]
  },
  {
   "cell_type": "code",
   "execution_count": 38,
   "metadata": {},
   "outputs": [
    {
     "name": "stdout",
     "output_type": "stream",
     "text": [
      "main screen appear\n"
     ]
    },
    {
     "data": {
      "text/html": [
       "<style  type=\"text/css\" >\n",
       "</style><table id=\"T_c50e8_\" ><thead>    <tr>        <th class=\"blank level0\" ></th>        <th class=\"col_heading level0 col0\" >step</th>        <th class=\"col_heading level0 col1\" >246</th>        <th class=\"col_heading level0 col2\" >248</th>        <th class=\"col_heading level0 col3\" >246_share</th>        <th class=\"col_heading level0 col4\" >248_share</th>    </tr></thead><tbody>\n",
       "                <tr>\n",
       "                        <th id=\"T_c50e8_level0_row0\" class=\"row_heading level0 row0\" >0</th>\n",
       "                        <td id=\"T_c50e8_row0_col0\" class=\"data row0 col0\" >main screen appear</td>\n",
       "                        <td id=\"T_c50e8_row0_col1\" class=\"data row0 col1\" >2450</td>\n",
       "                        <td id=\"T_c50e8_row0_col2\" class=\"data row0 col2\" >2493</td>\n",
       "                        <td id=\"T_c50e8_row0_col3\" class=\"data row0 col3\" >98.63%</td>\n",
       "                        <td id=\"T_c50e8_row0_col4\" class=\"data row0 col4\" >98.27%</td>\n",
       "            </tr>\n",
       "    </tbody></table>"
      ],
      "text/plain": [
       "<pandas.io.formats.style.Styler at 0x7ff439255dc0>"
      ]
     },
     "metadata": {},
     "output_type": "display_data"
    },
    {
     "name": "stdout",
     "output_type": "stream",
     "text": [
      "H0: между долями совершивших собыитие main screen appear в группах 246 и 248 разницы нет\n",
      "H1: между долями совершивших собыитие main screen appear в группах 246 и 248 есть значимая разница\n",
      "Уровень значимости: 0.00625\n",
      "p-значение: 0.29\n",
      "Мы не можем отвергнуть нулевую гипотезу\n",
      "\n",
      "offers screen appear\n"
     ]
    },
    {
     "data": {
      "text/html": [
       "<style  type=\"text/css\" >\n",
       "</style><table id=\"T_1c7d5_\" ><thead>    <tr>        <th class=\"blank level0\" ></th>        <th class=\"col_heading level0 col0\" >step</th>        <th class=\"col_heading level0 col1\" >246</th>        <th class=\"col_heading level0 col2\" >248</th>        <th class=\"col_heading level0 col3\" >246_share</th>        <th class=\"col_heading level0 col4\" >248_share</th>    </tr></thead><tbody>\n",
       "                <tr>\n",
       "                        <th id=\"T_1c7d5_level0_row0\" class=\"row_heading level0 row0\" >0</th>\n",
       "                        <td id=\"T_1c7d5_row0_col0\" class=\"data row0 col0\" >offers screen appear</td>\n",
       "                        <td id=\"T_1c7d5_row0_col1\" class=\"data row0 col1\" >1542</td>\n",
       "                        <td id=\"T_1c7d5_row0_col2\" class=\"data row0 col2\" >1531</td>\n",
       "                        <td id=\"T_1c7d5_row0_col3\" class=\"data row0 col3\" >62.08%</td>\n",
       "                        <td id=\"T_1c7d5_row0_col4\" class=\"data row0 col4\" >60.35%</td>\n",
       "            </tr>\n",
       "    </tbody></table>"
      ],
      "text/plain": [
       "<pandas.io.formats.style.Styler at 0x7ff439262f40>"
      ]
     },
     "metadata": {},
     "output_type": "display_data"
    },
    {
     "name": "stdout",
     "output_type": "stream",
     "text": [
      "H0: между долями совершивших собыитие offers screen appear в группах 246 и 248 разницы нет\n",
      "H1: между долями совершивших собыитие offers screen appear в группах 246 и 248 есть значимая разница\n",
      "Уровень значимости: 0.00625\n",
      "p-значение: 0.21\n",
      "Мы не можем отвергнуть нулевую гипотезу\n",
      "\n",
      "cart screen appear\n"
     ]
    },
    {
     "data": {
      "text/html": [
       "<style  type=\"text/css\" >\n",
       "</style><table id=\"T_81258_\" ><thead>    <tr>        <th class=\"blank level0\" ></th>        <th class=\"col_heading level0 col0\" >step</th>        <th class=\"col_heading level0 col1\" >246</th>        <th class=\"col_heading level0 col2\" >248</th>        <th class=\"col_heading level0 col3\" >246_share</th>        <th class=\"col_heading level0 col4\" >248_share</th>    </tr></thead><tbody>\n",
       "                <tr>\n",
       "                        <th id=\"T_81258_level0_row0\" class=\"row_heading level0 row0\" >0</th>\n",
       "                        <td id=\"T_81258_row0_col0\" class=\"data row0 col0\" >cart screen appear</td>\n",
       "                        <td id=\"T_81258_row0_col1\" class=\"data row0 col1\" >1266</td>\n",
       "                        <td id=\"T_81258_row0_col2\" class=\"data row0 col2\" >1230</td>\n",
       "                        <td id=\"T_81258_row0_col3\" class=\"data row0 col3\" >50.97%</td>\n",
       "                        <td id=\"T_81258_row0_col4\" class=\"data row0 col4\" >48.48%</td>\n",
       "            </tr>\n",
       "    </tbody></table>"
      ],
      "text/plain": [
       "<pandas.io.formats.style.Styler at 0x7ff4392ebf70>"
      ]
     },
     "metadata": {},
     "output_type": "display_data"
    },
    {
     "name": "stdout",
     "output_type": "stream",
     "text": [
      "H0: между долями совершивших собыитие cart screen appear в группах 246 и 248 разницы нет\n",
      "H1: между долями совершивших собыитие cart screen appear в группах 246 и 248 есть значимая разница\n",
      "Уровень значимости: 0.00625\n",
      "p-значение: 0.08\n",
      "Мы не можем отвергнуть нулевую гипотезу\n",
      "\n",
      "payment screen successful\n"
     ]
    },
    {
     "data": {
      "text/html": [
       "<style  type=\"text/css\" >\n",
       "</style><table id=\"T_701b2_\" ><thead>    <tr>        <th class=\"blank level0\" ></th>        <th class=\"col_heading level0 col0\" >step</th>        <th class=\"col_heading level0 col1\" >246</th>        <th class=\"col_heading level0 col2\" >248</th>        <th class=\"col_heading level0 col3\" >246_share</th>        <th class=\"col_heading level0 col4\" >248_share</th>    </tr></thead><tbody>\n",
       "                <tr>\n",
       "                        <th id=\"T_701b2_level0_row0\" class=\"row_heading level0 row0\" >0</th>\n",
       "                        <td id=\"T_701b2_row0_col0\" class=\"data row0 col0\" >payment screen successful</td>\n",
       "                        <td id=\"T_701b2_row0_col1\" class=\"data row0 col1\" >1200</td>\n",
       "                        <td id=\"T_701b2_row0_col2\" class=\"data row0 col2\" >1181</td>\n",
       "                        <td id=\"T_701b2_row0_col3\" class=\"data row0 col3\" >48.31%</td>\n",
       "                        <td id=\"T_701b2_row0_col4\" class=\"data row0 col4\" >46.55%</td>\n",
       "            </tr>\n",
       "    </tbody></table>"
      ],
      "text/plain": [
       "<pandas.io.formats.style.Styler at 0x7ff4392625e0>"
      ]
     },
     "metadata": {},
     "output_type": "display_data"
    },
    {
     "name": "stdout",
     "output_type": "stream",
     "text": [
      "H0: между долями совершивших собыитие payment screen successful в группах 246 и 248 разницы нет\n",
      "H1: между долями совершивших собыитие payment screen successful в группах 246 и 248 есть значимая разница\n",
      "Уровень значимости: 0.00625\n",
      "p-значение: 0.21\n",
      "Мы не можем отвергнуть нулевую гипотезу\n",
      "\n"
     ]
    }
   ],
   "source": [
    "for step in funnel_steps:\n",
    "    z_test([246], 248, step, logs, 0.1/16)"
   ]
  },
  {
   "cell_type": "markdown",
   "metadata": {},
   "source": [
    "При сравнении 246 и 248 групп ни на одном из шагов не было найдено значимой разницы. "
   ]
  },
  {
   "cell_type": "markdown",
   "metadata": {},
   "source": [
    "### A2/B тесты"
   ]
  },
  {
   "cell_type": "code",
   "execution_count": 39,
   "metadata": {
    "scrolled": false
   },
   "outputs": [
    {
     "name": "stdout",
     "output_type": "stream",
     "text": [
      "main screen appear\n"
     ]
    },
    {
     "data": {
      "text/html": [
       "<style  type=\"text/css\" >\n",
       "</style><table id=\"T_bb185_\" ><thead>    <tr>        <th class=\"blank level0\" ></th>        <th class=\"col_heading level0 col0\" >step</th>        <th class=\"col_heading level0 col1\" >247</th>        <th class=\"col_heading level0 col2\" >248</th>        <th class=\"col_heading level0 col3\" >247_share</th>        <th class=\"col_heading level0 col4\" >248_share</th>    </tr></thead><tbody>\n",
       "                <tr>\n",
       "                        <th id=\"T_bb185_level0_row0\" class=\"row_heading level0 row0\" >0</th>\n",
       "                        <td id=\"T_bb185_row0_col0\" class=\"data row0 col0\" >main screen appear</td>\n",
       "                        <td id=\"T_bb185_row0_col1\" class=\"data row0 col1\" >2476</td>\n",
       "                        <td id=\"T_bb185_row0_col2\" class=\"data row0 col2\" >2493</td>\n",
       "                        <td id=\"T_bb185_row0_col3\" class=\"data row0 col3\" >98.53%</td>\n",
       "                        <td id=\"T_bb185_row0_col4\" class=\"data row0 col4\" >98.27%</td>\n",
       "            </tr>\n",
       "    </tbody></table>"
      ],
      "text/plain": [
       "<pandas.io.formats.style.Styler at 0x7ff439202f70>"
      ]
     },
     "metadata": {},
     "output_type": "display_data"
    },
    {
     "name": "stdout",
     "output_type": "stream",
     "text": [
      "H0: между долями совершивших собыитие main screen appear в группах 247 и 248 разницы нет\n",
      "H1: между долями совершивших собыитие main screen appear в группах 247 и 248 есть значимая разница\n",
      "Уровень значимости: 0.05\n",
      "p-значение: 0.46\n",
      "Мы не можем отвергнуть нулевую гипотезу\n",
      "\n",
      "offers screen appear\n"
     ]
    },
    {
     "data": {
      "text/html": [
       "<style  type=\"text/css\" >\n",
       "</style><table id=\"T_57c55_\" ><thead>    <tr>        <th class=\"blank level0\" ></th>        <th class=\"col_heading level0 col0\" >step</th>        <th class=\"col_heading level0 col1\" >247</th>        <th class=\"col_heading level0 col2\" >248</th>        <th class=\"col_heading level0 col3\" >247_share</th>        <th class=\"col_heading level0 col4\" >248_share</th>    </tr></thead><tbody>\n",
       "                <tr>\n",
       "                        <th id=\"T_57c55_level0_row0\" class=\"row_heading level0 row0\" >0</th>\n",
       "                        <td id=\"T_57c55_row0_col0\" class=\"data row0 col0\" >offers screen appear</td>\n",
       "                        <td id=\"T_57c55_row0_col1\" class=\"data row0 col1\" >1520</td>\n",
       "                        <td id=\"T_57c55_row0_col2\" class=\"data row0 col2\" >1531</td>\n",
       "                        <td id=\"T_57c55_row0_col3\" class=\"data row0 col3\" >60.49%</td>\n",
       "                        <td id=\"T_57c55_row0_col4\" class=\"data row0 col4\" >60.35%</td>\n",
       "            </tr>\n",
       "    </tbody></table>"
      ],
      "text/plain": [
       "<pandas.io.formats.style.Styler at 0x7ff439215370>"
      ]
     },
     "metadata": {},
     "output_type": "display_data"
    },
    {
     "name": "stdout",
     "output_type": "stream",
     "text": [
      "H0: между долями совершивших собыитие offers screen appear в группах 247 и 248 разницы нет\n",
      "H1: между долями совершивших собыитие offers screen appear в группах 247 и 248 есть значимая разница\n",
      "Уровень значимости: 0.05\n",
      "p-значение: 0.92\n",
      "Мы не можем отвергнуть нулевую гипотезу\n",
      "\n",
      "cart screen appear\n"
     ]
    },
    {
     "data": {
      "text/html": [
       "<style  type=\"text/css\" >\n",
       "</style><table id=\"T_a6679_\" ><thead>    <tr>        <th class=\"blank level0\" ></th>        <th class=\"col_heading level0 col0\" >step</th>        <th class=\"col_heading level0 col1\" >247</th>        <th class=\"col_heading level0 col2\" >248</th>        <th class=\"col_heading level0 col3\" >247_share</th>        <th class=\"col_heading level0 col4\" >248_share</th>    </tr></thead><tbody>\n",
       "                <tr>\n",
       "                        <th id=\"T_a6679_level0_row0\" class=\"row_heading level0 row0\" >0</th>\n",
       "                        <td id=\"T_a6679_row0_col0\" class=\"data row0 col0\" >cart screen appear</td>\n",
       "                        <td id=\"T_a6679_row0_col1\" class=\"data row0 col1\" >1238</td>\n",
       "                        <td id=\"T_a6679_row0_col2\" class=\"data row0 col2\" >1230</td>\n",
       "                        <td id=\"T_a6679_row0_col3\" class=\"data row0 col3\" >49.26%</td>\n",
       "                        <td id=\"T_a6679_row0_col4\" class=\"data row0 col4\" >48.48%</td>\n",
       "            </tr>\n",
       "    </tbody></table>"
      ],
      "text/plain": [
       "<pandas.io.formats.style.Styler at 0x7ff4392557f0>"
      ]
     },
     "metadata": {},
     "output_type": "display_data"
    },
    {
     "name": "stdout",
     "output_type": "stream",
     "text": [
      "H0: между долями совершивших собыитие cart screen appear в группах 247 и 248 разницы нет\n",
      "H1: между долями совершивших собыитие cart screen appear в группах 247 и 248 есть значимая разница\n",
      "Уровень значимости: 0.05\n",
      "p-значение: 0.58\n",
      "Мы не можем отвергнуть нулевую гипотезу\n",
      "\n",
      "payment screen successful\n"
     ]
    },
    {
     "data": {
      "text/html": [
       "<style  type=\"text/css\" >\n",
       "</style><table id=\"T_0fb34_\" ><thead>    <tr>        <th class=\"blank level0\" ></th>        <th class=\"col_heading level0 col0\" >step</th>        <th class=\"col_heading level0 col1\" >247</th>        <th class=\"col_heading level0 col2\" >248</th>        <th class=\"col_heading level0 col3\" >247_share</th>        <th class=\"col_heading level0 col4\" >248_share</th>    </tr></thead><tbody>\n",
       "                <tr>\n",
       "                        <th id=\"T_0fb34_level0_row0\" class=\"row_heading level0 row0\" >0</th>\n",
       "                        <td id=\"T_0fb34_row0_col0\" class=\"data row0 col0\" >payment screen successful</td>\n",
       "                        <td id=\"T_0fb34_row0_col1\" class=\"data row0 col1\" >1158</td>\n",
       "                        <td id=\"T_0fb34_row0_col2\" class=\"data row0 col2\" >1181</td>\n",
       "                        <td id=\"T_0fb34_row0_col3\" class=\"data row0 col3\" >46.08%</td>\n",
       "                        <td id=\"T_0fb34_row0_col4\" class=\"data row0 col4\" >46.55%</td>\n",
       "            </tr>\n",
       "    </tbody></table>"
      ],
      "text/plain": [
       "<pandas.io.formats.style.Styler at 0x7ff439255d60>"
      ]
     },
     "metadata": {},
     "output_type": "display_data"
    },
    {
     "name": "stdout",
     "output_type": "stream",
     "text": [
      "H0: между долями совершивших собыитие payment screen successful в группах 247 и 248 разницы нет\n",
      "H1: между долями совершивших собыитие payment screen successful в группах 247 и 248 есть значимая разница\n",
      "Уровень значимости: 0.05\n",
      "p-значение: 0.74\n",
      "Мы не можем отвергнуть нулевую гипотезу\n",
      "\n"
     ]
    }
   ],
   "source": [
    "for step in funnel_steps:\n",
    "    z_test([247], 248, step, logs, 0.05)"
   ]
  },
  {
   "cell_type": "markdown",
   "metadata": {},
   "source": [
    "При сравнении 247 и 248 групп ни на одном из шагов не было найдено значимой разницы."
   ]
  },
  {
   "cell_type": "markdown",
   "metadata": {},
   "source": [
    "### A1+A2/B тесты"
   ]
  },
  {
   "cell_type": "code",
   "execution_count": 40,
   "metadata": {
    "scrolled": false
   },
   "outputs": [
    {
     "name": "stdout",
     "output_type": "stream",
     "text": [
      "main screen appear\n"
     ]
    },
    {
     "data": {
      "text/html": [
       "<style  type=\"text/css\" >\n",
       "</style><table id=\"T_6aa1b_\" ><thead>    <tr>        <th class=\"blank level0\" ></th>        <th class=\"col_heading level0 col0\" >step</th>        <th class=\"col_heading level0 col1\" >246_247</th>        <th class=\"col_heading level0 col2\" >248</th>        <th class=\"col_heading level0 col3\" >246_247_share</th>        <th class=\"col_heading level0 col4\" >248_share</th>    </tr></thead><tbody>\n",
       "                <tr>\n",
       "                        <th id=\"T_6aa1b_level0_row0\" class=\"row_heading level0 row0\" >0</th>\n",
       "                        <td id=\"T_6aa1b_row0_col0\" class=\"data row0 col0\" >main screen appear</td>\n",
       "                        <td id=\"T_6aa1b_row0_col1\" class=\"data row0 col1\" >4926</td>\n",
       "                        <td id=\"T_6aa1b_row0_col2\" class=\"data row0 col2\" >2493</td>\n",
       "                        <td id=\"T_6aa1b_row0_col3\" class=\"data row0 col3\" >98.58%</td>\n",
       "                        <td id=\"T_6aa1b_row0_col4\" class=\"data row0 col4\" >98.27%</td>\n",
       "            </tr>\n",
       "    </tbody></table>"
      ],
      "text/plain": [
       "<pandas.io.formats.style.Styler at 0x7ff4392eba90>"
      ]
     },
     "metadata": {},
     "output_type": "display_data"
    },
    {
     "name": "stdout",
     "output_type": "stream",
     "text": [
      "H0: между долями совершивших собыитие main screen appear в группах 246_247 и 248 разницы нет\n",
      "H1: между долями совершивших собыитие main screen appear в группах 246_247 и 248 есть значимая разница\n",
      "Уровень значимости: 0.05\n",
      "p-значение: 0.29\n",
      "Мы не можем отвергнуть нулевую гипотезу\n",
      "\n",
      "offers screen appear\n"
     ]
    },
    {
     "data": {
      "text/html": [
       "<style  type=\"text/css\" >\n",
       "</style><table id=\"T_60ab6_\" ><thead>    <tr>        <th class=\"blank level0\" ></th>        <th class=\"col_heading level0 col0\" >step</th>        <th class=\"col_heading level0 col1\" >246_247</th>        <th class=\"col_heading level0 col2\" >248</th>        <th class=\"col_heading level0 col3\" >246_247_share</th>        <th class=\"col_heading level0 col4\" >248_share</th>    </tr></thead><tbody>\n",
       "                <tr>\n",
       "                        <th id=\"T_60ab6_level0_row0\" class=\"row_heading level0 row0\" >0</th>\n",
       "                        <td id=\"T_60ab6_row0_col0\" class=\"data row0 col0\" >offers screen appear</td>\n",
       "                        <td id=\"T_60ab6_row0_col1\" class=\"data row0 col1\" >3062</td>\n",
       "                        <td id=\"T_60ab6_row0_col2\" class=\"data row0 col2\" >1531</td>\n",
       "                        <td id=\"T_60ab6_row0_col3\" class=\"data row0 col3\" >61.28%</td>\n",
       "                        <td id=\"T_60ab6_row0_col4\" class=\"data row0 col4\" >60.35%</td>\n",
       "            </tr>\n",
       "    </tbody></table>"
      ],
      "text/plain": [
       "<pandas.io.formats.style.Styler at 0x7ff439202370>"
      ]
     },
     "metadata": {},
     "output_type": "display_data"
    },
    {
     "name": "stdout",
     "output_type": "stream",
     "text": [
      "H0: между долями совершивших собыитие offers screen appear в группах 246_247 и 248 разницы нет\n",
      "H1: между долями совершивших собыитие offers screen appear в группах 246_247 и 248 есть значимая разница\n",
      "Уровень значимости: 0.05\n",
      "p-значение: 0.43\n",
      "Мы не можем отвергнуть нулевую гипотезу\n",
      "\n",
      "cart screen appear\n"
     ]
    },
    {
     "data": {
      "text/html": [
       "<style  type=\"text/css\" >\n",
       "</style><table id=\"T_e4126_\" ><thead>    <tr>        <th class=\"blank level0\" ></th>        <th class=\"col_heading level0 col0\" >step</th>        <th class=\"col_heading level0 col1\" >246_247</th>        <th class=\"col_heading level0 col2\" >248</th>        <th class=\"col_heading level0 col3\" >246_247_share</th>        <th class=\"col_heading level0 col4\" >248_share</th>    </tr></thead><tbody>\n",
       "                <tr>\n",
       "                        <th id=\"T_e4126_level0_row0\" class=\"row_heading level0 row0\" >0</th>\n",
       "                        <td id=\"T_e4126_row0_col0\" class=\"data row0 col0\" >cart screen appear</td>\n",
       "                        <td id=\"T_e4126_row0_col1\" class=\"data row0 col1\" >2504</td>\n",
       "                        <td id=\"T_e4126_row0_col2\" class=\"data row0 col2\" >1230</td>\n",
       "                        <td id=\"T_e4126_row0_col3\" class=\"data row0 col3\" >50.11%</td>\n",
       "                        <td id=\"T_e4126_row0_col4\" class=\"data row0 col4\" >48.48%</td>\n",
       "            </tr>\n",
       "    </tbody></table>"
      ],
      "text/plain": [
       "<pandas.io.formats.style.Styler at 0x7ff4392157c0>"
      ]
     },
     "metadata": {},
     "output_type": "display_data"
    },
    {
     "name": "stdout",
     "output_type": "stream",
     "text": [
      "H0: между долями совершивших собыитие cart screen appear в группах 246_247 и 248 разницы нет\n",
      "H1: между долями совершивших собыитие cart screen appear в группах 246_247 и 248 есть значимая разница\n",
      "Уровень значимости: 0.05\n",
      "p-значение: 0.18\n",
      "Мы не можем отвергнуть нулевую гипотезу\n",
      "\n",
      "payment screen successful\n"
     ]
    },
    {
     "data": {
      "text/html": [
       "<style  type=\"text/css\" >\n",
       "</style><table id=\"T_93198_\" ><thead>    <tr>        <th class=\"blank level0\" ></th>        <th class=\"col_heading level0 col0\" >step</th>        <th class=\"col_heading level0 col1\" >246_247</th>        <th class=\"col_heading level0 col2\" >248</th>        <th class=\"col_heading level0 col3\" >246_247_share</th>        <th class=\"col_heading level0 col4\" >248_share</th>    </tr></thead><tbody>\n",
       "                <tr>\n",
       "                        <th id=\"T_93198_level0_row0\" class=\"row_heading level0 row0\" >0</th>\n",
       "                        <td id=\"T_93198_row0_col0\" class=\"data row0 col0\" >payment screen successful</td>\n",
       "                        <td id=\"T_93198_row0_col1\" class=\"data row0 col1\" >2358</td>\n",
       "                        <td id=\"T_93198_row0_col2\" class=\"data row0 col2\" >1181</td>\n",
       "                        <td id=\"T_93198_row0_col3\" class=\"data row0 col3\" >47.19%</td>\n",
       "                        <td id=\"T_93198_row0_col4\" class=\"data row0 col4\" >46.55%</td>\n",
       "            </tr>\n",
       "    </tbody></table>"
      ],
      "text/plain": [
       "<pandas.io.formats.style.Styler at 0x7ff4392027f0>"
      ]
     },
     "metadata": {},
     "output_type": "display_data"
    },
    {
     "name": "stdout",
     "output_type": "stream",
     "text": [
      "H0: между долями совершивших собыитие payment screen successful в группах 246_247 и 248 разницы нет\n",
      "H1: между долями совершивших собыитие payment screen successful в группах 246_247 и 248 есть значимая разница\n",
      "Уровень значимости: 0.05\n",
      "p-значение: 0.60\n",
      "Мы не можем отвергнуть нулевую гипотезу\n",
      "\n"
     ]
    }
   ],
   "source": [
    "for step in funnel_steps:\n",
    "    z_test([246, 247], 248, step, logs, 0.05)"
   ]
  },
  {
   "cell_type": "markdown",
   "metadata": {},
   "source": [
    "При сравнении обединенной(246 + 247) и 248 групп ни на одном из шагов не было найдено значимой разницы."
   ]
  },
  {
   "cell_type": "markdown",
   "metadata": {},
   "source": [
    "### Выводы:\n",
    " - Между долями пользователей, совершивших каждый из шагов воронки, контрольных групп статистически значимой разницы нет, количество участников групп также различается не существенно(на 1,15%). При этом, на некоторых этапах воронки разница доходит до 2%. На основании этого допустили, что данные собраны корректно.\n",
    " - Значимой разницы между результатами контрольных и экспериментальной групп ни на одном из шагов воронки нет. Из этого следует, что обновление шрифта не меняет поведения пользователей в  приложении."
   ]
  },
  {
   "cell_type": "markdown",
   "metadata": {},
   "source": [
    "## Выводы:"
   ]
  },
  {
   "cell_type": "markdown",
   "metadata": {},
   "source": [
    " - В данных были дубликаты, которых теоретически не должно было быть, т.к. пользователь не может в одну секунду совершить действие дважды. Поэтому на этапе предобработки их убрали.\n",
    " - Изначально были предоставлены данные за двухнедельный период, но в первую неделю данные собирались не в полном объеме, поэтому для анализа использовали только данные второй недели(с 1-го по 7-ое августа).\n",
    " - Около половины всех событий занимает появление главного экрана, потом последовательно идут появление экрана предложения, появление экрана корзины и экран успешной оплаты. Меньше всего пользователи изучают инструкци, всего 1005 раз.\n",
    " - Для анализа выделили следующу конверсионную воронку, распределение пользователей, совершивших эти действия, подтверждает такой порядок:\n",
    "    1. просмотр главной страниц \n",
    "    2. Просмотр страницы с предложением\n",
    "    3. Просмотр корзины\n",
    "    4. Успешная оплата.\n",
    " - Больше всего пользователей отсеивается на втором шаге(около 38% от совершивших первое дейстие).\n",
    " - До шага оплуспешной оплаты проходит 46,97% от всех пользователей.\n",
    " - Данные собрались корректно: значимой разницы между долями контрольных групп нет, существенного расхождения в численности груп тоже нет, но разница между долями доходит до 2%.\n",
    " - Значимой разницы между результатами контрольных и тестовой групп нет, обновление шрифта не меняет поведение пользователей в приложении."
   ]
  }
 ],
 "metadata": {
  "ExecuteTimeLog": [
   {
    "duration": 466,
    "start_time": "2022-03-23T18:09:44.659Z"
   },
   {
    "duration": 831,
    "start_time": "2022-03-23T18:10:24.248Z"
   },
   {
    "duration": 351,
    "start_time": "2022-03-23T18:10:34.205Z"
   },
   {
    "duration": 151,
    "start_time": "2022-03-23T18:10:57.667Z"
   },
   {
    "duration": 8,
    "start_time": "2022-03-23T18:13:53.021Z"
   },
   {
    "duration": 35,
    "start_time": "2022-03-23T18:14:06.066Z"
   },
   {
    "duration": 21,
    "start_time": "2022-03-23T18:14:15.543Z"
   },
   {
    "duration": 1659,
    "start_time": "2022-03-23T18:19:09.517Z"
   },
   {
    "duration": 1140,
    "start_time": "2022-03-23T18:19:23.424Z"
   },
   {
    "duration": 8,
    "start_time": "2022-03-23T18:21:59.036Z"
   },
   {
    "duration": 61,
    "start_time": "2022-03-23T18:22:09.868Z"
   },
   {
    "duration": 19,
    "start_time": "2022-03-23T18:22:14.740Z"
   },
   {
    "duration": 18,
    "start_time": "2022-03-23T18:22:19.416Z"
   },
   {
    "duration": 17,
    "start_time": "2022-03-23T18:22:22.720Z"
   },
   {
    "duration": 18,
    "start_time": "2022-03-23T18:23:34.958Z"
   },
   {
    "duration": 22,
    "start_time": "2022-03-23T18:31:57.808Z"
   },
   {
    "duration": 237,
    "start_time": "2022-03-23T18:32:33.867Z"
   },
   {
    "duration": 7,
    "start_time": "2022-03-23T18:34:49.651Z"
   },
   {
    "duration": 2323,
    "start_time": "2022-03-23T18:35:46.483Z"
   },
   {
    "duration": 11,
    "start_time": "2022-03-23T18:36:03.561Z"
   },
   {
    "duration": 7,
    "start_time": "2022-03-23T18:36:32.080Z"
   },
   {
    "duration": 68,
    "start_time": "2022-03-23T18:38:08.818Z"
   },
   {
    "duration": 119,
    "start_time": "2022-03-23T18:38:18.284Z"
   },
   {
    "duration": 8,
    "start_time": "2022-03-23T18:50:41.912Z"
   },
   {
    "duration": 200,
    "start_time": "2022-03-23T18:50:48.192Z"
   },
   {
    "duration": 84,
    "start_time": "2022-03-23T18:53:28.417Z"
   },
   {
    "duration": 2271,
    "start_time": "2022-03-23T18:58:30.848Z"
   },
   {
    "duration": 9,
    "start_time": "2022-03-23T18:58:37.743Z"
   },
   {
    "duration": 4,
    "start_time": "2022-03-23T18:59:11.327Z"
   },
   {
    "duration": 3,
    "start_time": "2022-03-23T18:59:34.010Z"
   },
   {
    "duration": 6,
    "start_time": "2022-03-23T19:11:23.578Z"
   },
   {
    "duration": 7,
    "start_time": "2022-03-23T19:11:33.702Z"
   },
   {
    "duration": 139,
    "start_time": "2022-03-23T19:12:05.140Z"
   },
   {
    "duration": 8,
    "start_time": "2022-03-23T19:12:10.563Z"
   },
   {
    "duration": 10,
    "start_time": "2022-03-23T19:13:53.803Z"
   },
   {
    "duration": 22,
    "start_time": "2022-03-23T19:16:12.184Z"
   },
   {
    "duration": 16,
    "start_time": "2022-03-23T19:16:29.475Z"
   },
   {
    "duration": 890,
    "start_time": "2022-03-23T19:32:16.867Z"
   },
   {
    "duration": 20,
    "start_time": "2022-03-23T19:33:06.892Z"
   },
   {
    "duration": 30,
    "start_time": "2022-03-23T19:33:24.040Z"
   },
   {
    "duration": 30,
    "start_time": "2022-03-23T19:33:38.975Z"
   },
   {
    "duration": 4,
    "start_time": "2022-03-23T19:37:21.706Z"
   },
   {
    "duration": 30,
    "start_time": "2022-03-23T19:37:31.066Z"
   },
   {
    "duration": 78,
    "start_time": "2022-03-23T19:37:35.961Z"
   },
   {
    "duration": 29,
    "start_time": "2022-03-23T19:38:01.463Z"
   },
   {
    "duration": 20,
    "start_time": "2022-03-23T19:38:25.411Z"
   },
   {
    "duration": 15,
    "start_time": "2022-03-23T19:38:36.336Z"
   },
   {
    "duration": 27,
    "start_time": "2022-03-23T19:38:47.977Z"
   },
   {
    "duration": 153,
    "start_time": "2022-03-23T19:40:08.145Z"
   },
   {
    "duration": 30,
    "start_time": "2022-03-23T19:40:22.031Z"
   },
   {
    "duration": 30,
    "start_time": "2022-03-23T19:40:33.489Z"
   },
   {
    "duration": 29,
    "start_time": "2022-03-23T19:42:08.673Z"
   },
   {
    "duration": 33,
    "start_time": "2022-03-23T19:45:17.669Z"
   },
   {
    "duration": 227,
    "start_time": "2022-03-23T19:46:51.128Z"
   },
   {
    "duration": 304,
    "start_time": "2022-03-23T19:48:09.269Z"
   },
   {
    "duration": 241,
    "start_time": "2022-03-23T19:48:44.361Z"
   },
   {
    "duration": 297,
    "start_time": "2022-03-23T19:49:16.960Z"
   },
   {
    "duration": 224,
    "start_time": "2022-03-23T19:49:24.396Z"
   },
   {
    "duration": 11,
    "start_time": "2022-03-23T20:03:30.151Z"
   },
   {
    "duration": 11,
    "start_time": "2022-03-23T20:03:40.115Z"
   },
   {
    "duration": 48,
    "start_time": "2022-03-23T20:05:46.662Z"
   },
   {
    "duration": 9,
    "start_time": "2022-03-23T20:09:22.908Z"
   },
   {
    "duration": 46,
    "start_time": "2022-03-23T20:11:01.055Z"
   },
   {
    "duration": 33,
    "start_time": "2022-03-23T20:11:49.224Z"
   },
   {
    "duration": 44,
    "start_time": "2022-03-23T20:11:56.861Z"
   },
   {
    "duration": 198,
    "start_time": "2022-03-23T20:12:21.851Z"
   },
   {
    "duration": 29,
    "start_time": "2022-03-23T20:21:44.012Z"
   },
   {
    "duration": 26,
    "start_time": "2022-03-23T20:22:08.685Z"
   },
   {
    "duration": 26,
    "start_time": "2022-03-23T20:22:34.956Z"
   },
   {
    "duration": 140,
    "start_time": "2022-03-23T20:24:01.172Z"
   },
   {
    "duration": 78,
    "start_time": "2022-03-23T20:47:13.522Z"
   },
   {
    "duration": 56,
    "start_time": "2022-03-23T20:48:43.159Z"
   },
   {
    "duration": 63,
    "start_time": "2022-03-23T20:50:47.079Z"
   },
   {
    "duration": 98,
    "start_time": "2022-03-23T20:51:28.491Z"
   },
   {
    "duration": 144,
    "start_time": "2022-03-23T20:53:16.529Z"
   },
   {
    "duration": 144,
    "start_time": "2022-03-23T20:54:00.690Z"
   },
   {
    "duration": 1271,
    "start_time": "2022-03-24T17:25:28.959Z"
   },
   {
    "duration": 168,
    "start_time": "2022-03-24T17:25:30.232Z"
   },
   {
    "duration": 9,
    "start_time": "2022-03-24T17:25:30.402Z"
   },
   {
    "duration": 42,
    "start_time": "2022-03-24T17:25:30.413Z"
   },
   {
    "duration": 17,
    "start_time": "2022-03-24T17:25:30.458Z"
   },
   {
    "duration": 92,
    "start_time": "2022-03-24T17:25:30.477Z"
   },
   {
    "duration": 31,
    "start_time": "2022-03-24T17:25:30.571Z"
   },
   {
    "duration": 139,
    "start_time": "2022-03-24T17:25:30.604Z"
   },
   {
    "duration": 18,
    "start_time": "2022-03-24T17:25:30.746Z"
   },
   {
    "duration": 7,
    "start_time": "2022-03-24T17:25:30.766Z"
   },
   {
    "duration": 174,
    "start_time": "2022-03-24T17:25:30.775Z"
   },
   {
    "duration": 305,
    "start_time": "2022-03-24T17:25:30.951Z"
   },
   {
    "duration": 4,
    "start_time": "2022-03-24T17:25:31.262Z"
   },
   {
    "duration": 23,
    "start_time": "2022-03-24T17:25:31.269Z"
   },
   {
    "duration": 16,
    "start_time": "2022-03-24T17:25:31.294Z"
   },
   {
    "duration": 30,
    "start_time": "2022-03-24T17:25:31.311Z"
   },
   {
    "duration": 56,
    "start_time": "2022-03-24T17:25:31.343Z"
   },
   {
    "duration": 26,
    "start_time": "2022-03-24T17:25:31.402Z"
   },
   {
    "duration": 254,
    "start_time": "2022-03-24T17:25:31.430Z"
   },
   {
    "duration": 35,
    "start_time": "2022-03-24T17:25:31.686Z"
   },
   {
    "duration": 6,
    "start_time": "2022-03-24T17:25:31.723Z"
   },
   {
    "duration": 60,
    "start_time": "2022-03-24T17:25:31.731Z"
   },
   {
    "duration": 27,
    "start_time": "2022-03-24T17:25:31.793Z"
   },
   {
    "duration": 244,
    "start_time": "2022-03-24T17:25:31.822Z"
   },
   {
    "duration": 155,
    "start_time": "2022-03-24T17:25:32.069Z"
   },
   {
    "duration": 224,
    "start_time": "2022-03-24T17:25:32.226Z"
   },
   {
    "duration": 16,
    "start_time": "2022-03-24T17:25:32.452Z"
   },
   {
    "duration": 1393,
    "start_time": "2022-03-24T17:44:02.743Z"
   },
   {
    "duration": 2643,
    "start_time": "2022-03-24T17:44:10.639Z"
   },
   {
    "duration": 8,
    "start_time": "2022-03-24T17:45:55.738Z"
   },
   {
    "duration": 8,
    "start_time": "2022-03-24T17:47:01.995Z"
   },
   {
    "duration": 9,
    "start_time": "2022-03-24T17:48:23.362Z"
   },
   {
    "duration": 9,
    "start_time": "2022-03-24T17:48:47.037Z"
   },
   {
    "duration": 7,
    "start_time": "2022-03-24T17:49:58.711Z"
   },
   {
    "duration": 4,
    "start_time": "2022-03-24T17:55:02.906Z"
   },
   {
    "duration": 5,
    "start_time": "2022-03-24T17:55:17.041Z"
   },
   {
    "duration": 5,
    "start_time": "2022-03-24T17:56:14.519Z"
   },
   {
    "duration": 5,
    "start_time": "2022-03-24T17:56:22.777Z"
   },
   {
    "duration": 8,
    "start_time": "2022-03-24T17:57:16.673Z"
   },
   {
    "duration": 12,
    "start_time": "2022-03-24T17:57:29.358Z"
   },
   {
    "duration": 7,
    "start_time": "2022-03-24T17:57:32.534Z"
   },
   {
    "duration": 8,
    "start_time": "2022-03-24T17:58:14.589Z"
   },
   {
    "duration": 5,
    "start_time": "2022-03-24T17:58:32.589Z"
   },
   {
    "duration": 8,
    "start_time": "2022-03-24T17:58:39.666Z"
   },
   {
    "duration": 9,
    "start_time": "2022-03-24T18:01:29.351Z"
   },
   {
    "duration": 9,
    "start_time": "2022-03-24T18:01:36.807Z"
   },
   {
    "duration": 9,
    "start_time": "2022-03-24T18:01:41.845Z"
   },
   {
    "duration": 9,
    "start_time": "2022-03-24T18:03:52.683Z"
   },
   {
    "duration": 14,
    "start_time": "2022-03-24T18:04:44.868Z"
   },
   {
    "duration": 26,
    "start_time": "2022-03-24T18:07:20.642Z"
   },
   {
    "duration": 23,
    "start_time": "2022-03-24T18:09:22.381Z"
   },
   {
    "duration": 24,
    "start_time": "2022-03-24T18:09:38.708Z"
   },
   {
    "duration": 8,
    "start_time": "2022-03-24T18:10:16.856Z"
   },
   {
    "duration": 25,
    "start_time": "2022-03-24T18:10:39.672Z"
   },
   {
    "duration": 13,
    "start_time": "2022-03-24T18:11:59.584Z"
   },
   {
    "duration": 10,
    "start_time": "2022-03-24T18:12:36.894Z"
   },
   {
    "duration": 13,
    "start_time": "2022-03-24T18:12:47.985Z"
   },
   {
    "duration": 15,
    "start_time": "2022-03-24T18:12:52.575Z"
   },
   {
    "duration": 28,
    "start_time": "2022-03-24T18:16:57.356Z"
   },
   {
    "duration": 16,
    "start_time": "2022-03-24T18:17:07.568Z"
   },
   {
    "duration": 7,
    "start_time": "2022-03-24T18:17:24.955Z"
   },
   {
    "duration": 14,
    "start_time": "2022-03-24T18:17:34.500Z"
   },
   {
    "duration": 19,
    "start_time": "2022-03-24T18:23:22.575Z"
   },
   {
    "duration": 20,
    "start_time": "2022-03-24T18:23:42.648Z"
   },
   {
    "duration": 15,
    "start_time": "2022-03-24T18:24:01.742Z"
   },
   {
    "duration": 146,
    "start_time": "2022-03-24T18:28:35.359Z"
   },
   {
    "duration": 135,
    "start_time": "2022-03-24T18:28:44.521Z"
   },
   {
    "duration": 150,
    "start_time": "2022-03-24T18:29:25.764Z"
   },
   {
    "duration": 39,
    "start_time": "2022-03-24T18:46:54.201Z"
   },
   {
    "duration": 9,
    "start_time": "2022-03-24T19:00:48.986Z"
   },
   {
    "duration": 52,
    "start_time": "2022-03-24T19:02:55.180Z"
   },
   {
    "duration": 42,
    "start_time": "2022-03-24T19:03:59.028Z"
   },
   {
    "duration": 39,
    "start_time": "2022-03-24T19:04:06.661Z"
   },
   {
    "duration": 57,
    "start_time": "2022-03-24T19:04:12.353Z"
   },
   {
    "duration": 51,
    "start_time": "2022-03-24T19:04:44.996Z"
   },
   {
    "duration": 1231,
    "start_time": "2022-03-24T19:05:10.709Z"
   },
   {
    "duration": 154,
    "start_time": "2022-03-24T19:05:11.942Z"
   },
   {
    "duration": 8,
    "start_time": "2022-03-24T19:05:12.098Z"
   },
   {
    "duration": 22,
    "start_time": "2022-03-24T19:05:12.108Z"
   },
   {
    "duration": 35,
    "start_time": "2022-03-24T19:05:12.132Z"
   },
   {
    "duration": 73,
    "start_time": "2022-03-24T19:05:12.169Z"
   },
   {
    "duration": 19,
    "start_time": "2022-03-24T19:05:12.263Z"
   },
   {
    "duration": 139,
    "start_time": "2022-03-24T19:05:12.283Z"
   },
   {
    "duration": 6,
    "start_time": "2022-03-24T19:05:12.423Z"
   },
   {
    "duration": 7,
    "start_time": "2022-03-24T19:05:12.432Z"
   },
   {
    "duration": 111,
    "start_time": "2022-03-24T19:05:12.440Z"
   },
   {
    "duration": 194,
    "start_time": "2022-03-24T19:05:12.553Z"
   },
   {
    "duration": 15,
    "start_time": "2022-03-24T19:05:12.749Z"
   },
   {
    "duration": 66,
    "start_time": "2022-03-24T19:05:12.766Z"
   },
   {
    "duration": 4,
    "start_time": "2022-03-24T19:05:12.834Z"
   },
   {
    "duration": 27,
    "start_time": "2022-03-24T19:05:12.841Z"
   },
   {
    "duration": 24,
    "start_time": "2022-03-24T19:05:12.871Z"
   },
   {
    "duration": 75,
    "start_time": "2022-03-24T19:05:12.897Z"
   },
   {
    "duration": 48,
    "start_time": "2022-03-24T19:05:12.974Z"
   },
   {
    "duration": 64,
    "start_time": "2022-03-24T19:05:13.024Z"
   },
   {
    "duration": 425,
    "start_time": "2022-03-24T19:05:13.091Z"
   },
   {
    "duration": 34,
    "start_time": "2022-03-24T19:05:13.517Z"
   },
   {
    "duration": 18,
    "start_time": "2022-03-24T19:05:13.552Z"
   },
   {
    "duration": 38,
    "start_time": "2022-03-24T19:05:13.571Z"
   },
   {
    "duration": 55,
    "start_time": "2022-03-24T19:05:13.611Z"
   },
   {
    "duration": 153,
    "start_time": "2022-03-24T19:05:13.667Z"
   },
   {
    "duration": 98,
    "start_time": "2022-03-24T19:05:13.821Z"
   },
   {
    "duration": 156,
    "start_time": "2022-03-24T19:05:13.922Z"
   },
   {
    "duration": 7,
    "start_time": "2022-03-24T19:05:14.080Z"
   },
   {
    "duration": 151,
    "start_time": "2022-03-24T19:05:14.089Z"
   },
   {
    "duration": 28,
    "start_time": "2022-03-24T19:05:14.242Z"
   },
   {
    "duration": 146,
    "start_time": "2022-03-24T19:05:14.272Z"
   },
   {
    "duration": 52,
    "start_time": "2022-03-24T19:05:14.419Z"
   },
   {
    "duration": 8,
    "start_time": "2022-03-24T19:05:14.473Z"
   },
   {
    "duration": 7,
    "start_time": "2022-03-24T19:12:44.611Z"
   },
   {
    "duration": 3,
    "start_time": "2022-03-24T19:17:03.040Z"
   },
   {
    "duration": 25,
    "start_time": "2022-03-24T19:23:56.761Z"
   },
   {
    "duration": 4,
    "start_time": "2022-03-24T19:25:01.343Z"
   },
   {
    "duration": 145,
    "start_time": "2022-03-24T19:28:39.326Z"
   },
   {
    "duration": 148,
    "start_time": "2022-03-24T19:29:03.064Z"
   },
   {
    "duration": 164,
    "start_time": "2022-03-24T19:29:53.975Z"
   },
   {
    "duration": 35,
    "start_time": "2022-03-24T19:30:03.675Z"
   },
   {
    "duration": 176,
    "start_time": "2022-03-24T19:30:46.960Z"
   },
   {
    "duration": 48,
    "start_time": "2022-03-24T19:30:56.125Z"
   },
   {
    "duration": 36,
    "start_time": "2022-03-24T19:31:25.909Z"
   },
   {
    "duration": 149,
    "start_time": "2022-03-24T19:32:50.150Z"
   },
   {
    "duration": 309,
    "start_time": "2022-03-24T19:33:04.703Z"
   },
   {
    "duration": 9,
    "start_time": "2022-03-24T19:34:37.419Z"
   },
   {
    "duration": 8,
    "start_time": "2022-03-24T19:34:42.060Z"
   },
   {
    "duration": 5,
    "start_time": "2022-03-24T19:34:44.811Z"
   },
   {
    "duration": 220,
    "start_time": "2022-03-24T19:36:34.628Z"
   },
   {
    "duration": 251,
    "start_time": "2022-03-24T19:38:16.472Z"
   },
   {
    "duration": 6,
    "start_time": "2022-03-24T19:39:09.513Z"
   },
   {
    "duration": 6,
    "start_time": "2022-03-24T19:39:16.832Z"
   },
   {
    "duration": 2661,
    "start_time": "2022-03-24T19:39:28.254Z"
   },
   {
    "duration": 6,
    "start_time": "2022-03-24T19:40:16.758Z"
   },
   {
    "duration": 2509,
    "start_time": "2022-03-24T19:40:27.205Z"
   },
   {
    "duration": 239,
    "start_time": "2022-03-24T19:40:59.891Z"
   },
   {
    "duration": 233,
    "start_time": "2022-03-24T19:43:06.334Z"
   },
   {
    "duration": 232,
    "start_time": "2022-03-24T19:43:16.787Z"
   },
   {
    "duration": 242,
    "start_time": "2022-03-24T19:45:34.012Z"
   },
   {
    "duration": 1245,
    "start_time": "2022-03-24T19:45:42.978Z"
   },
   {
    "duration": 163,
    "start_time": "2022-03-24T19:45:44.225Z"
   },
   {
    "duration": 6,
    "start_time": "2022-03-24T19:45:44.390Z"
   },
   {
    "duration": 23,
    "start_time": "2022-03-24T19:45:44.398Z"
   },
   {
    "duration": 14,
    "start_time": "2022-03-24T19:45:44.423Z"
   },
   {
    "duration": 102,
    "start_time": "2022-03-24T19:45:44.438Z"
   },
   {
    "duration": 40,
    "start_time": "2022-03-24T19:45:44.541Z"
   },
   {
    "duration": 125,
    "start_time": "2022-03-24T19:45:44.583Z"
   },
   {
    "duration": 5,
    "start_time": "2022-03-24T19:45:44.709Z"
   },
   {
    "duration": 5,
    "start_time": "2022-03-24T19:45:44.716Z"
   },
   {
    "duration": 123,
    "start_time": "2022-03-24T19:45:44.723Z"
   },
   {
    "duration": 213,
    "start_time": "2022-03-24T19:45:44.848Z"
   },
   {
    "duration": 46,
    "start_time": "2022-03-24T19:45:45.064Z"
   },
   {
    "duration": 4,
    "start_time": "2022-03-24T19:45:45.113Z"
   },
   {
    "duration": 9,
    "start_time": "2022-03-24T19:45:45.119Z"
   },
   {
    "duration": 48,
    "start_time": "2022-03-24T19:45:45.130Z"
   },
   {
    "duration": 30,
    "start_time": "2022-03-24T19:45:45.180Z"
   },
   {
    "duration": 24,
    "start_time": "2022-03-24T19:45:45.212Z"
   },
   {
    "duration": 53,
    "start_time": "2022-03-24T19:45:45.238Z"
   },
   {
    "duration": 360,
    "start_time": "2022-03-24T19:45:45.292Z"
   },
   {
    "duration": 44,
    "start_time": "2022-03-24T19:45:45.653Z"
   },
   {
    "duration": 16,
    "start_time": "2022-03-24T19:45:45.698Z"
   },
   {
    "duration": 33,
    "start_time": "2022-03-24T19:45:45.715Z"
   },
   {
    "duration": 36,
    "start_time": "2022-03-24T19:45:45.765Z"
   },
   {
    "duration": 167,
    "start_time": "2022-03-24T19:45:45.802Z"
   },
   {
    "duration": 111,
    "start_time": "2022-03-24T19:45:45.971Z"
   },
   {
    "duration": 154,
    "start_time": "2022-03-24T19:45:46.083Z"
   },
   {
    "duration": 7,
    "start_time": "2022-03-24T19:45:46.239Z"
   },
   {
    "duration": 151,
    "start_time": "2022-03-24T19:45:46.248Z"
   },
   {
    "duration": 14,
    "start_time": "2022-03-24T19:45:46.400Z"
   },
   {
    "duration": 189,
    "start_time": "2022-03-24T19:45:46.416Z"
   },
   {
    "duration": 37,
    "start_time": "2022-03-24T19:45:46.606Z"
   },
   {
    "duration": 4,
    "start_time": "2022-03-24T19:45:46.644Z"
   },
   {
    "duration": 44,
    "start_time": "2022-03-24T19:45:46.649Z"
   },
   {
    "duration": 340,
    "start_time": "2022-03-24T19:45:46.695Z"
   },
   {
    "duration": 0,
    "start_time": "2022-03-24T19:45:47.037Z"
   },
   {
    "duration": 251,
    "start_time": "2022-03-24T19:46:08.328Z"
   },
   {
    "duration": 1267,
    "start_time": "2022-03-24T19:46:27.876Z"
   },
   {
    "duration": 174,
    "start_time": "2022-03-24T19:46:29.146Z"
   },
   {
    "duration": 7,
    "start_time": "2022-03-24T19:46:29.322Z"
   },
   {
    "duration": 22,
    "start_time": "2022-03-24T19:46:29.331Z"
   },
   {
    "duration": 26,
    "start_time": "2022-03-24T19:46:29.354Z"
   },
   {
    "duration": 97,
    "start_time": "2022-03-24T19:46:29.382Z"
   },
   {
    "duration": 19,
    "start_time": "2022-03-24T19:46:29.481Z"
   },
   {
    "duration": 139,
    "start_time": "2022-03-24T19:46:29.502Z"
   },
   {
    "duration": 6,
    "start_time": "2022-03-24T19:46:29.643Z"
   },
   {
    "duration": 13,
    "start_time": "2022-03-24T19:46:29.662Z"
   },
   {
    "duration": 120,
    "start_time": "2022-03-24T19:46:29.679Z"
   },
   {
    "duration": 211,
    "start_time": "2022-03-24T19:46:29.801Z"
   },
   {
    "duration": 53,
    "start_time": "2022-03-24T19:46:30.014Z"
   },
   {
    "duration": 5,
    "start_time": "2022-03-24T19:46:30.070Z"
   },
   {
    "duration": 13,
    "start_time": "2022-03-24T19:46:30.078Z"
   },
   {
    "duration": 16,
    "start_time": "2022-03-24T19:46:30.093Z"
   },
   {
    "duration": 63,
    "start_time": "2022-03-24T19:46:30.110Z"
   },
   {
    "duration": 28,
    "start_time": "2022-03-24T19:46:30.176Z"
   },
   {
    "duration": 25,
    "start_time": "2022-03-24T19:46:30.206Z"
   },
   {
    "duration": 282,
    "start_time": "2022-03-24T19:46:30.232Z"
   },
   {
    "duration": 34,
    "start_time": "2022-03-24T19:46:30.516Z"
   },
   {
    "duration": 21,
    "start_time": "2022-03-24T19:46:30.552Z"
   },
   {
    "duration": 47,
    "start_time": "2022-03-24T19:46:30.576Z"
   },
   {
    "duration": 28,
    "start_time": "2022-03-24T19:46:30.625Z"
   },
   {
    "duration": 161,
    "start_time": "2022-03-24T19:46:30.655Z"
   },
   {
    "duration": 111,
    "start_time": "2022-03-24T19:46:30.818Z"
   },
   {
    "duration": 165,
    "start_time": "2022-03-24T19:46:30.931Z"
   },
   {
    "duration": 7,
    "start_time": "2022-03-24T19:46:31.100Z"
   },
   {
    "duration": 148,
    "start_time": "2022-03-24T19:46:31.108Z"
   },
   {
    "duration": 27,
    "start_time": "2022-03-24T19:46:31.257Z"
   },
   {
    "duration": 148,
    "start_time": "2022-03-24T19:46:31.286Z"
   },
   {
    "duration": 55,
    "start_time": "2022-03-24T19:46:31.435Z"
   },
   {
    "duration": 3,
    "start_time": "2022-03-24T19:46:31.492Z"
   },
   {
    "duration": 33,
    "start_time": "2022-03-24T19:46:31.497Z"
   },
   {
    "duration": 251,
    "start_time": "2022-03-24T19:46:31.532Z"
   },
   {
    "duration": 8,
    "start_time": "2022-03-24T19:46:31.785Z"
   },
   {
    "duration": 311,
    "start_time": "2022-03-24T20:01:07.584Z"
   },
   {
    "duration": 103,
    "start_time": "2022-03-24T20:11:48.950Z"
   },
   {
    "duration": 11,
    "start_time": "2022-03-24T20:12:11.000Z"
   },
   {
    "duration": 8,
    "start_time": "2022-03-24T20:12:22.136Z"
   },
   {
    "duration": 14,
    "start_time": "2022-03-24T20:12:27.043Z"
   },
   {
    "duration": 8,
    "start_time": "2022-03-24T20:12:59.437Z"
   },
   {
    "duration": 11,
    "start_time": "2022-03-24T20:13:13.273Z"
   },
   {
    "duration": 2394,
    "start_time": "2022-03-24T20:13:45.158Z"
   },
   {
    "duration": 13,
    "start_time": "2022-03-24T20:13:51.506Z"
   },
   {
    "duration": 8,
    "start_time": "2022-03-24T20:14:01.033Z"
   },
   {
    "duration": 9,
    "start_time": "2022-03-24T20:14:06.438Z"
   },
   {
    "duration": 8,
    "start_time": "2022-03-24T20:14:14.429Z"
   },
   {
    "duration": 17,
    "start_time": "2022-03-24T20:25:31.904Z"
   },
   {
    "duration": 34,
    "start_time": "2022-03-24T20:25:46.274Z"
   },
   {
    "duration": 3,
    "start_time": "2022-03-24T21:55:34.580Z"
   },
   {
    "duration": 3,
    "start_time": "2022-03-24T21:56:27.649Z"
   },
   {
    "duration": 72,
    "start_time": "2022-03-24T21:57:20.330Z"
   },
   {
    "duration": 57,
    "start_time": "2022-03-24T21:57:28.014Z"
   },
   {
    "duration": 5,
    "start_time": "2022-03-24T22:05:01.898Z"
   },
   {
    "duration": 64,
    "start_time": "2022-03-24T22:11:21.010Z"
   },
   {
    "duration": 59,
    "start_time": "2022-03-24T22:11:55.075Z"
   },
   {
    "duration": 60,
    "start_time": "2022-03-24T22:12:09.879Z"
   },
   {
    "duration": 7,
    "start_time": "2022-03-24T22:13:59.740Z"
   },
   {
    "duration": 7,
    "start_time": "2022-03-24T22:14:57.144Z"
   },
   {
    "duration": 6,
    "start_time": "2022-03-24T22:15:12.795Z"
   },
   {
    "duration": 67,
    "start_time": "2022-03-24T22:15:24.222Z"
   },
   {
    "duration": 61,
    "start_time": "2022-03-24T22:15:32.818Z"
   },
   {
    "duration": 13,
    "start_time": "2022-03-24T22:15:43.272Z"
   },
   {
    "duration": 6,
    "start_time": "2022-03-24T22:15:55.510Z"
   },
   {
    "duration": 53,
    "start_time": "2022-03-24T22:15:57.686Z"
   },
   {
    "duration": 7,
    "start_time": "2022-03-24T22:16:38.735Z"
   },
   {
    "duration": 201,
    "start_time": "2022-03-24T22:29:17.989Z"
   },
   {
    "duration": 201,
    "start_time": "2022-03-24T22:29:41.062Z"
   },
   {
    "duration": 6,
    "start_time": "2022-03-24T22:29:43.244Z"
   },
   {
    "duration": 198,
    "start_time": "2022-03-24T22:29:44.821Z"
   },
   {
    "duration": 189,
    "start_time": "2022-03-24T22:33:09.281Z"
   },
   {
    "duration": 200,
    "start_time": "2022-03-24T22:33:43.280Z"
   },
   {
    "duration": 2869,
    "start_time": "2022-03-26T19:09:06.119Z"
   },
   {
    "duration": 709,
    "start_time": "2022-03-26T19:09:08.996Z"
   },
   {
    "duration": 15,
    "start_time": "2022-03-26T19:09:09.708Z"
   },
   {
    "duration": 60,
    "start_time": "2022-03-26T19:09:09.726Z"
   },
   {
    "duration": 22,
    "start_time": "2022-03-26T19:09:09.789Z"
   },
   {
    "duration": 370,
    "start_time": "2022-03-26T19:09:09.814Z"
   },
   {
    "duration": 42,
    "start_time": "2022-03-26T19:09:10.187Z"
   },
   {
    "duration": 216,
    "start_time": "2022-03-26T19:09:10.232Z"
   },
   {
    "duration": 9,
    "start_time": "2022-03-26T19:09:10.451Z"
   },
   {
    "duration": 27,
    "start_time": "2022-03-26T19:09:10.463Z"
   },
   {
    "duration": 250,
    "start_time": "2022-03-26T19:09:10.493Z"
   },
   {
    "duration": 296,
    "start_time": "2022-03-26T19:09:10.746Z"
   },
   {
    "duration": 73,
    "start_time": "2022-03-26T19:09:11.045Z"
   },
   {
    "duration": 9,
    "start_time": "2022-03-26T19:09:11.125Z"
   },
   {
    "duration": 15,
    "start_time": "2022-03-26T19:09:11.137Z"
   },
   {
    "duration": 54,
    "start_time": "2022-03-26T19:09:11.155Z"
   },
   {
    "duration": 42,
    "start_time": "2022-03-26T19:09:11.212Z"
   },
   {
    "duration": 38,
    "start_time": "2022-03-26T19:09:11.284Z"
   },
   {
    "duration": 61,
    "start_time": "2022-03-26T19:09:11.325Z"
   },
   {
    "duration": 640,
    "start_time": "2022-03-26T19:09:11.390Z"
   },
   {
    "duration": 64,
    "start_time": "2022-03-26T19:09:12.032Z"
   },
   {
    "duration": 12,
    "start_time": "2022-03-26T19:09:12.099Z"
   },
   {
    "duration": 95,
    "start_time": "2022-03-26T19:09:12.113Z"
   },
   {
    "duration": 75,
    "start_time": "2022-03-26T19:09:12.211Z"
   },
   {
    "duration": 283,
    "start_time": "2022-03-26T19:09:12.289Z"
   },
   {
    "duration": 160,
    "start_time": "2022-03-26T19:09:12.576Z"
   },
   {
    "duration": 352,
    "start_time": "2022-03-26T19:09:12.739Z"
   },
   {
    "duration": 15,
    "start_time": "2022-03-26T19:09:13.094Z"
   },
   {
    "duration": 265,
    "start_time": "2022-03-26T19:09:13.111Z"
   },
   {
    "duration": 20,
    "start_time": "2022-03-26T19:09:13.384Z"
   },
   {
    "duration": 331,
    "start_time": "2022-03-26T19:09:13.406Z"
   },
   {
    "duration": 74,
    "start_time": "2022-03-26T19:09:13.740Z"
   },
   {
    "duration": 568,
    "start_time": "2022-03-26T19:09:13.817Z"
   },
   {
    "duration": 16,
    "start_time": "2022-03-26T19:09:14.388Z"
   },
   {
    "duration": 319,
    "start_time": "2022-03-26T19:09:14.406Z"
   },
   {
    "duration": 329,
    "start_time": "2022-03-26T19:09:14.728Z"
   },
   {
    "duration": 341,
    "start_time": "2022-03-26T19:09:15.060Z"
   },
   {
    "duration": 13,
    "start_time": "2022-03-26T19:09:15.403Z"
   },
   {
    "duration": 205,
    "start_time": "2022-03-26T19:43:35.960Z"
   },
   {
    "duration": 1786,
    "start_time": "2022-03-26T19:43:48.225Z"
   },
   {
    "duration": 69,
    "start_time": "2022-03-26T19:43:57.071Z"
   },
   {
    "duration": 113,
    "start_time": "2022-03-26T20:05:30.698Z"
   },
   {
    "duration": 12,
    "start_time": "2022-03-26T20:05:59.607Z"
   },
   {
    "duration": 29,
    "start_time": "2022-03-26T20:06:02.510Z"
   },
   {
    "duration": 17,
    "start_time": "2022-03-26T20:06:38.748Z"
   },
   {
    "duration": 377,
    "start_time": "2022-03-26T20:06:42.086Z"
   },
   {
    "duration": 17,
    "start_time": "2022-03-26T20:10:01.314Z"
   },
   {
    "duration": 379,
    "start_time": "2022-03-26T20:10:05.044Z"
   },
   {
    "duration": 15,
    "start_time": "2022-03-26T20:18:56.086Z"
   },
   {
    "duration": 25,
    "start_time": "2022-03-26T20:19:24.603Z"
   },
   {
    "duration": 19,
    "start_time": "2022-03-26T20:19:51.945Z"
   },
   {
    "duration": 17,
    "start_time": "2022-03-26T20:20:07.376Z"
   },
   {
    "duration": 108,
    "start_time": "2022-03-26T20:38:38.996Z"
   },
   {
    "duration": 958,
    "start_time": "2022-03-26T20:39:00.719Z"
   },
   {
    "duration": 37,
    "start_time": "2022-03-26T20:40:51.496Z"
   },
   {
    "duration": 106,
    "start_time": "2022-03-26T20:42:28.279Z"
   },
   {
    "duration": 1005,
    "start_time": "2022-03-26T20:42:32.186Z"
   },
   {
    "duration": 116,
    "start_time": "2022-03-26T20:43:05.193Z"
   },
   {
    "duration": 126,
    "start_time": "2022-03-26T20:43:42.720Z"
   },
   {
    "duration": 116,
    "start_time": "2022-03-26T20:44:02.143Z"
   },
   {
    "duration": 105,
    "start_time": "2022-03-26T20:44:49.934Z"
   },
   {
    "duration": 9,
    "start_time": "2022-03-26T20:45:00.184Z"
   },
   {
    "duration": 336,
    "start_time": "2022-03-26T20:45:04.236Z"
   },
   {
    "duration": 3,
    "start_time": "2022-03-26T20:50:30.065Z"
   },
   {
    "duration": 103,
    "start_time": "2022-03-26T20:51:24.751Z"
   },
   {
    "duration": 7,
    "start_time": "2022-03-26T20:51:32.236Z"
   },
   {
    "duration": 7,
    "start_time": "2022-03-26T20:51:43.503Z"
   },
   {
    "duration": 5,
    "start_time": "2022-03-26T20:51:53.179Z"
   },
   {
    "duration": 5,
    "start_time": "2022-03-26T20:51:57.462Z"
   },
   {
    "duration": 235,
    "start_time": "2022-03-26T20:52:40.614Z"
   },
   {
    "duration": 106,
    "start_time": "2022-03-26T20:52:58.685Z"
   },
   {
    "duration": 103,
    "start_time": "2022-03-26T20:53:08.751Z"
   },
   {
    "duration": 231,
    "start_time": "2022-03-26T20:53:15.062Z"
   },
   {
    "duration": 13,
    "start_time": "2022-03-26T20:54:03.354Z"
   },
   {
    "duration": 6,
    "start_time": "2022-03-26T20:54:17.394Z"
   },
   {
    "duration": 7,
    "start_time": "2022-03-26T20:54:53.731Z"
   },
   {
    "duration": 6,
    "start_time": "2022-03-26T20:55:03.066Z"
   },
   {
    "duration": 7,
    "start_time": "2022-03-26T20:55:12.215Z"
   },
   {
    "duration": 98,
    "start_time": "2022-03-26T20:56:44.239Z"
   },
   {
    "duration": 137,
    "start_time": "2022-03-26T20:57:50.524Z"
   },
   {
    "duration": 142,
    "start_time": "2022-03-26T20:57:56.335Z"
   },
   {
    "duration": 11,
    "start_time": "2022-03-26T21:00:20.747Z"
   },
   {
    "duration": 415,
    "start_time": "2022-03-26T21:00:41.115Z"
   },
   {
    "duration": 12,
    "start_time": "2022-03-26T21:02:56.560Z"
   },
   {
    "duration": 420,
    "start_time": "2022-03-26T21:03:00.539Z"
   },
   {
    "duration": 15,
    "start_time": "2022-03-26T21:05:04.269Z"
   },
   {
    "duration": 416,
    "start_time": "2022-03-26T21:05:07.068Z"
   },
   {
    "duration": 15,
    "start_time": "2022-03-26T21:54:10.172Z"
   },
   {
    "duration": 21,
    "start_time": "2022-03-26T21:54:19.179Z"
   },
   {
    "duration": 344,
    "start_time": "2022-03-26T21:54:32.991Z"
   },
   {
    "duration": 13,
    "start_time": "2022-03-26T21:56:55.130Z"
   },
   {
    "duration": 11,
    "start_time": "2022-03-26T21:57:14.427Z"
   },
   {
    "duration": 7,
    "start_time": "2022-03-26T21:57:26.256Z"
   },
   {
    "duration": 12,
    "start_time": "2022-03-26T21:57:37.531Z"
   },
   {
    "duration": 7,
    "start_time": "2022-03-26T21:57:49.314Z"
   },
   {
    "duration": 365,
    "start_time": "2022-03-26T21:59:28.526Z"
   },
   {
    "duration": 6,
    "start_time": "2022-03-26T21:59:35.561Z"
   },
   {
    "duration": 341,
    "start_time": "2022-03-26T21:59:41.024Z"
   },
   {
    "duration": 355,
    "start_time": "2022-03-26T22:04:22.209Z"
   },
   {
    "duration": 11,
    "start_time": "2022-03-26T23:07:28.065Z"
   },
   {
    "duration": 221,
    "start_time": "2022-03-26T23:08:09.766Z"
   },
   {
    "duration": 263,
    "start_time": "2022-03-26T23:08:18.240Z"
   },
   {
    "duration": 429,
    "start_time": "2022-03-26T23:10:18.907Z"
   },
   {
    "duration": 6,
    "start_time": "2022-03-26T23:19:01.860Z"
   },
   {
    "duration": 1856,
    "start_time": "2022-03-26T23:35:23.973Z"
   },
   {
    "duration": 317,
    "start_time": "2022-03-26T23:35:25.833Z"
   },
   {
    "duration": 12,
    "start_time": "2022-03-26T23:35:26.152Z"
   },
   {
    "duration": 30,
    "start_time": "2022-03-26T23:35:26.184Z"
   },
   {
    "duration": 17,
    "start_time": "2022-03-26T23:35:26.216Z"
   },
   {
    "duration": 143,
    "start_time": "2022-03-26T23:35:26.235Z"
   },
   {
    "duration": 29,
    "start_time": "2022-03-26T23:35:26.383Z"
   },
   {
    "duration": 296,
    "start_time": "2022-03-26T23:35:26.415Z"
   },
   {
    "duration": 6,
    "start_time": "2022-03-26T23:35:26.713Z"
   },
   {
    "duration": 8,
    "start_time": "2022-03-26T23:35:26.723Z"
   },
   {
    "duration": 177,
    "start_time": "2022-03-26T23:35:26.734Z"
   },
   {
    "duration": 288,
    "start_time": "2022-03-26T23:35:26.913Z"
   },
   {
    "duration": 52,
    "start_time": "2022-03-26T23:35:27.203Z"
   },
   {
    "duration": 35,
    "start_time": "2022-03-26T23:35:27.258Z"
   },
   {
    "duration": 377,
    "start_time": "2022-03-26T23:35:27.295Z"
   },
   {
    "duration": 26,
    "start_time": "2022-03-26T23:35:27.675Z"
   },
   {
    "duration": 39,
    "start_time": "2022-03-26T23:35:27.703Z"
   },
   {
    "duration": 60,
    "start_time": "2022-03-26T23:35:27.745Z"
   },
   {
    "duration": 34,
    "start_time": "2022-03-26T23:35:27.807Z"
   },
   {
    "duration": 406,
    "start_time": "2022-03-26T23:35:27.843Z"
   },
   {
    "duration": 51,
    "start_time": "2022-03-26T23:35:28.251Z"
   },
   {
    "duration": 9,
    "start_time": "2022-03-26T23:35:28.305Z"
   },
   {
    "duration": 70,
    "start_time": "2022-03-26T23:35:28.316Z"
   },
   {
    "duration": 42,
    "start_time": "2022-03-26T23:35:28.389Z"
   },
   {
    "duration": 276,
    "start_time": "2022-03-26T23:35:28.433Z"
   },
   {
    "duration": 161,
    "start_time": "2022-03-26T23:35:28.711Z"
   },
   {
    "duration": 336,
    "start_time": "2022-03-26T23:35:28.874Z"
   },
   {
    "duration": 10,
    "start_time": "2022-03-26T23:35:29.215Z"
   },
   {
    "duration": 252,
    "start_time": "2022-03-26T23:35:29.227Z"
   },
   {
    "duration": 19,
    "start_time": "2022-03-26T23:35:29.481Z"
   },
   {
    "duration": 259,
    "start_time": "2022-03-26T23:35:29.502Z"
   },
   {
    "duration": 59,
    "start_time": "2022-03-26T23:35:29.763Z"
   },
   {
    "duration": 5,
    "start_time": "2022-03-26T23:35:29.824Z"
   },
   {
    "duration": 330,
    "start_time": "2022-03-26T23:35:29.831Z"
   },
   {
    "duration": 22,
    "start_time": "2022-03-26T23:35:30.163Z"
   },
   {
    "duration": 13,
    "start_time": "2022-03-26T23:35:30.188Z"
   },
   {
    "duration": 356,
    "start_time": "2022-03-26T23:35:30.203Z"
   },
   {
    "duration": 372,
    "start_time": "2022-03-26T23:35:30.561Z"
   },
   {
    "duration": 362,
    "start_time": "2022-03-26T23:35:30.935Z"
   },
   {
    "duration": 411,
    "start_time": "2022-03-26T23:35:31.300Z"
   },
   {
    "duration": 1402,
    "start_time": "2022-03-28T05:05:58.144Z"
   },
   {
    "duration": 212,
    "start_time": "2022-03-28T05:05:59.550Z"
   },
   {
    "duration": 19,
    "start_time": "2022-03-28T05:05:59.765Z"
   },
   {
    "duration": 31,
    "start_time": "2022-03-28T05:05:59.787Z"
   },
   {
    "duration": 16,
    "start_time": "2022-03-28T05:05:59.821Z"
   },
   {
    "duration": 154,
    "start_time": "2022-03-28T05:05:59.839Z"
   },
   {
    "duration": 29,
    "start_time": "2022-03-28T05:05:59.995Z"
   },
   {
    "duration": 193,
    "start_time": "2022-03-28T05:06:00.026Z"
   },
   {
    "duration": 6,
    "start_time": "2022-03-28T05:06:00.221Z"
   },
   {
    "duration": 8,
    "start_time": "2022-03-28T05:06:00.230Z"
   },
   {
    "duration": 170,
    "start_time": "2022-03-28T05:06:00.240Z"
   },
   {
    "duration": 262,
    "start_time": "2022-03-28T05:06:00.412Z"
   },
   {
    "duration": 53,
    "start_time": "2022-03-28T05:06:00.676Z"
   },
   {
    "duration": 10,
    "start_time": "2022-03-28T05:06:00.733Z"
   },
   {
    "duration": 379,
    "start_time": "2022-03-28T05:06:00.745Z"
   },
   {
    "duration": 23,
    "start_time": "2022-03-28T05:06:01.126Z"
   },
   {
    "duration": 58,
    "start_time": "2022-03-28T05:06:01.151Z"
   },
   {
    "duration": 34,
    "start_time": "2022-03-28T05:06:01.211Z"
   },
   {
    "duration": 55,
    "start_time": "2022-03-28T05:06:01.248Z"
   },
   {
    "duration": 390,
    "start_time": "2022-03-28T05:06:01.305Z"
   },
   {
    "duration": 51,
    "start_time": "2022-03-28T05:06:01.697Z"
   },
   {
    "duration": 38,
    "start_time": "2022-03-28T05:06:01.750Z"
   },
   {
    "duration": 48,
    "start_time": "2022-03-28T05:06:01.790Z"
   },
   {
    "duration": 64,
    "start_time": "2022-03-28T05:06:01.840Z"
   },
   {
    "duration": 260,
    "start_time": "2022-03-28T05:06:01.906Z"
   },
   {
    "duration": 141,
    "start_time": "2022-03-28T05:06:02.168Z"
   },
   {
    "duration": 248,
    "start_time": "2022-03-28T05:06:02.311Z"
   },
   {
    "duration": 22,
    "start_time": "2022-03-28T05:06:02.562Z"
   },
   {
    "duration": 236,
    "start_time": "2022-03-28T05:06:02.586Z"
   },
   {
    "duration": 19,
    "start_time": "2022-03-28T05:06:02.824Z"
   },
   {
    "duration": 255,
    "start_time": "2022-03-28T05:06:02.845Z"
   },
   {
    "duration": 44,
    "start_time": "2022-03-28T05:06:03.103Z"
   },
   {
    "duration": 34,
    "start_time": "2022-03-28T05:06:03.149Z"
   },
   {
    "duration": 292,
    "start_time": "2022-03-28T05:06:03.185Z"
   },
   {
    "duration": 11,
    "start_time": "2022-03-28T05:06:03.482Z"
   },
   {
    "duration": 29,
    "start_time": "2022-03-28T05:06:03.495Z"
   },
   {
    "duration": 329,
    "start_time": "2022-03-28T05:06:03.526Z"
   },
   {
    "duration": 347,
    "start_time": "2022-03-28T05:06:03.857Z"
   },
   {
    "duration": 342,
    "start_time": "2022-03-28T05:06:04.206Z"
   },
   {
    "duration": 384,
    "start_time": "2022-03-28T05:06:04.551Z"
   },
   {
    "duration": 1271,
    "start_time": "2022-03-28T16:59:31.927Z"
   },
   {
    "duration": 152,
    "start_time": "2022-03-28T16:59:33.199Z"
   },
   {
    "duration": 14,
    "start_time": "2022-03-28T17:01:45.073Z"
   },
   {
    "duration": 108,
    "start_time": "2022-03-28T17:04:28.645Z"
   },
   {
    "duration": 3,
    "start_time": "2022-03-28T17:04:35.564Z"
   },
   {
    "duration": 1134,
    "start_time": "2022-03-28T17:04:42.488Z"
   },
   {
    "duration": 161,
    "start_time": "2022-03-28T17:04:43.624Z"
   },
   {
    "duration": 23,
    "start_time": "2022-03-28T17:04:43.789Z"
   },
   {
    "duration": 20,
    "start_time": "2022-03-28T17:04:43.814Z"
   },
   {
    "duration": 13,
    "start_time": "2022-03-28T17:04:43.836Z"
   },
   {
    "duration": 94,
    "start_time": "2022-03-28T17:04:43.850Z"
   },
   {
    "duration": 19,
    "start_time": "2022-03-28T17:04:43.945Z"
   },
   {
    "duration": 142,
    "start_time": "2022-03-28T17:04:43.966Z"
   },
   {
    "duration": 5,
    "start_time": "2022-03-28T17:04:44.112Z"
   },
   {
    "duration": 20,
    "start_time": "2022-03-28T17:04:44.119Z"
   },
   {
    "duration": 100,
    "start_time": "2022-03-28T17:04:44.141Z"
   },
   {
    "duration": 190,
    "start_time": "2022-03-28T17:04:44.243Z"
   },
   {
    "duration": 40,
    "start_time": "2022-03-28T17:04:44.435Z"
   },
   {
    "duration": 7,
    "start_time": "2022-03-28T17:04:44.477Z"
   },
   {
    "duration": 251,
    "start_time": "2022-03-28T17:04:44.486Z"
   },
   {
    "duration": 15,
    "start_time": "2022-03-28T17:04:44.739Z"
   },
   {
    "duration": 30,
    "start_time": "2022-03-28T17:04:44.756Z"
   },
   {
    "duration": 42,
    "start_time": "2022-03-28T17:04:44.788Z"
   },
   {
    "duration": 26,
    "start_time": "2022-03-28T17:04:44.831Z"
   },
   {
    "duration": 263,
    "start_time": "2022-03-28T17:04:44.859Z"
   },
   {
    "duration": 35,
    "start_time": "2022-03-28T17:04:45.124Z"
   },
   {
    "duration": 7,
    "start_time": "2022-03-28T17:04:45.161Z"
   },
   {
    "duration": 61,
    "start_time": "2022-03-28T17:04:45.169Z"
   },
   {
    "duration": 27,
    "start_time": "2022-03-28T17:04:45.232Z"
   },
   {
    "duration": 172,
    "start_time": "2022-03-28T17:04:45.261Z"
   },
   {
    "duration": 106,
    "start_time": "2022-03-28T17:04:45.434Z"
   },
   {
    "duration": 160,
    "start_time": "2022-03-28T17:04:45.543Z"
   },
   {
    "duration": 7,
    "start_time": "2022-03-28T17:04:45.705Z"
   },
   {
    "duration": 152,
    "start_time": "2022-03-28T17:04:45.714Z"
   },
   {
    "duration": 14,
    "start_time": "2022-03-28T17:04:45.868Z"
   },
   {
    "duration": 160,
    "start_time": "2022-03-28T17:04:45.884Z"
   },
   {
    "duration": 49,
    "start_time": "2022-03-28T17:04:46.046Z"
   },
   {
    "duration": 13,
    "start_time": "2022-03-28T17:04:46.097Z"
   },
   {
    "duration": 252,
    "start_time": "2022-03-28T17:04:46.112Z"
   },
   {
    "duration": 10,
    "start_time": "2022-03-28T17:04:46.365Z"
   },
   {
    "duration": 10,
    "start_time": "2022-03-28T17:04:46.376Z"
   },
   {
    "duration": 268,
    "start_time": "2022-03-28T17:04:46.387Z"
   },
   {
    "duration": 278,
    "start_time": "2022-03-28T17:04:46.657Z"
   },
   {
    "duration": 284,
    "start_time": "2022-03-28T17:04:46.937Z"
   },
   {
    "duration": 290,
    "start_time": "2022-03-28T17:04:47.224Z"
   }
  ],
  "kernelspec": {
   "display_name": "Python 3 (ipykernel)",
   "language": "python",
   "name": "python3"
  },
  "language_info": {
   "codemirror_mode": {
    "name": "ipython",
    "version": 3
   },
   "file_extension": ".py",
   "mimetype": "text/x-python",
   "name": "python",
   "nbconvert_exporter": "python",
   "pygments_lexer": "ipython3",
   "version": "3.9.7"
  },
  "toc": {
   "base_numbering": 1,
   "nav_menu": {},
   "number_sections": true,
   "sideBar": true,
   "skip_h1_title": true,
   "title_cell": "Table of Contents",
   "title_sidebar": "Contents",
   "toc_cell": false,
   "toc_position": {
    "height": "calc(100% - 180px)",
    "left": "10px",
    "top": "150px",
    "width": "392.1px"
   },
   "toc_section_display": true,
   "toc_window_display": true
  }
 },
 "nbformat": 4,
 "nbformat_minor": 2
}
